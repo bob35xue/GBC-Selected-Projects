{
 "cells": [
  {
   "cell_type": "code",
   "execution_count": 1,
   "metadata": {},
   "outputs": [],
   "source": [
    "from pyspark import SparkConf, SparkContext\n",
    "from pyspark.sql import SparkSession,SQLContext\n",
    "from pyspark.sql.functions import *"
   ]
  },
  {
   "cell_type": "code",
   "execution_count": 3,
   "metadata": {},
   "outputs": [],
   "source": [
    "spark = SparkSession.builder \\\n",
    "    .appName(\"AmazonCanadaSalesAnalysis\") \\\n",
    "    .config(\"spark.jars.packages\", \"net.snowflake:spark-snowflake_2.12:2.10.1-spark_3.1\") \\\n",
    "    .config(\"spark.jars.packages\", \"net.snowflake:snowflake-jdbc:3.13.13\") \\\n",
    "    .getOrCreate()\n",
    "\n",
    "# Snowflake connection options\n",
    "sfOptions = {\n",
    "    \"sfURL\" : \"https://pdxuwmc-wb15506.snowflakecomputing.com\",\n",
    "    \"sfUser\" : \"Bob35\",\n",
    "    \"sfPassword\" : \"******\",\n",
    "    \"sfDatabase\" : \"GBCCLASS\",\n",
    "    \"sfSchema\" : \"PUBLIC\",\n",
    "    \"sfWarehouse\" : \"GBCCLASS_WH\",\n",
    "    \"sfRole\" : \"ACCOUNTADMIN\", \n",
    "}\n",
    "\n",
    "# Function to read Snowflake tables\n",
    "def read_snowflake_table(table_name):\n",
    "    return spark.read \\\n",
    "        .format(\"snowflake\") \\\n",
    "        .options(**sfOptions) \\\n",
    "        .option(\"dbtable\", table_name) \\\n",
    "        .load()"
   ]
  },
  {
   "cell_type": "code",
   "execution_count": 4,
   "metadata": {},
   "outputs": [
    {
     "name": "stdout",
     "output_type": "stream",
     "text": [
      "+----------+--------------------+--------------------+--------------------+-----+-------+------+---------+------------+------------+-----------------+\n",
      "|      ASIN|               TITLE|              IMGURL|          PRODUCTURL|STARS|REVIEWS| PRICE|LISTPRICE|CATEGORYNAME|ISBESTSELLER|BOUGHTINLASTMONTH|\n",
      "+----------+--------------------+--------------------+--------------------+-----+-------+------+---------+------------+------------+-----------------+\n",
      "|B09P7NGVHD|Merory Card Adapt...|https://m.media-a...|https://www.amazo...|  0.0|      0|   0.0|      0.0|Memory Cards|       False|                0|\n",
      "|B09P7JQT7Y|SUTK Speed Micro ...|https://m.media-a...|https://www.amazo...|  0.0|      0|   0.0|      0.0|Memory Cards|       False|                0|\n",
      "|B09P78GGKZ|Extreme 16GB Comp...|https://m.media-a...|https://www.amazo...|  4.5|    130| 55.94|      0.0|Memory Cards|       False|                0|\n",
      "|B09P76FDZG|Extreme 8GB Compa...|https://m.media-a...|https://www.amazo...|  4.3|     24| 53.75|      0.0|Memory Cards|       False|                0|\n",
      "|B09P73ZS38|1GB Compact Flash...|https://m.media-a...|https://www.amazo...|  4.8|      5| 26.85|      0.0|Memory Cards|       False|                0|\n",
      "|B09P69VCVS|10pcs 2SD2012 D20...|https://m.media-a...|https://www.amazo...|  0.0|      0|  6.39|      0.0|Memory Cards|       False|                0|\n",
      "|B09P69GVMZ|10pcs 2SD2012 D20...|https://m.media-a...|https://www.amazo...|  0.0|      0|  4.59|      0.0|Memory Cards|       False|                0|\n",
      "|B09P49PWGR|Intenso 128GB mic...|https://m.media-a...|https://www.amazo...|  4.1|      8| 27.51|      0.0|Memory Cards|       False|                0|\n",
      "|B09P48JVW7|100PCS TF Micro S...|https://m.media-a...|https://www.amazo...|  0.0|      0| 55.94|      0.0|Memory Cards|       False|                0|\n",
      "|B09P48G78G|Intenso 32 GB mic...|https://m.media-a...|https://www.amazo...|  5.0|      4| 18.88|      0.0|Memory Cards|       False|                0|\n",
      "|B09P485YFS|1PCS TF Micro SD ...|https://m.media-a...|https://www.amazo...|  0.0|      0|  8.06|      0.0|Memory Cards|       False|                0|\n",
      "|B09P47NL14|64MB Game Console...|https://m.media-a...|https://www.amazo...|  0.0|      0| 15.19|      0.0|Memory Cards|       False|                0|\n",
      "|B09P43V8RH|Luwsldirr Card Sl...|https://m.media-a...|https://www.amazo...|  0.0|      0|   0.0|      0.0|Memory Cards|       False|                0|\n",
      "|B09P3RPZHB|Game Console Memo...|https://m.media-a...|https://www.amazo...|  0.0|      0|   0.0|      0.0|Memory Cards|       False|                0|\n",
      "|B09P3QLCZ9|Kingspec VideoPro...|https://m.media-a...|https://www.amazo...|  5.0|      1|411.56|      0.0|Memory Cards|       False|                0|\n",
      "|B09P39PHVW|64MB Game Console...|https://m.media-a...|https://www.amazo...|  0.0|      0| 15.18|      0.0|Memory Cards|       False|                0|\n",
      "|B09P32LLYS|VALICLUD Flowers ...|https://m.media-a...|https://www.amazo...|  0.0|      0| 14.65|      0.0|Memory Cards|       False|                0|\n",
      "|B09P1WX2Y4|Game Console Memo...|https://m.media-a...|https://www.amazo...|  0.0|      0|   0.0|      0.0|Memory Cards|       False|                0|\n",
      "|B09NZG4F84|64MB Game Memory,...|https://m.media-a...|https://www.amazo...|  0.0|      0| 15.58|      0.0|Memory Cards|       False|                0|\n",
      "|B09NXT9T4C|SanDisk 512GB Ult...|https://m.media-a...|https://www.amazo...|  3.4|      2|   0.0|      0.0|Memory Cards|       False|                0|\n",
      "+----------+--------------------+--------------------+--------------------+-----+-------+------+---------+------------+------------+-----------------+\n",
      "only showing top 20 rows\n",
      "\n"
     ]
    }
   ],
   "source": [
    "# Load tables from TPCDS_SF10TCL\n",
    "df = read_snowflake_table(\"amz_ca_total_products_data_processed\")\n",
    "# Show the data\n",
    "df.show()"
   ]
  },
  {
   "cell_type": "code",
   "execution_count": 5,
   "metadata": {},
   "outputs": [
    {
     "name": "stdout",
     "output_type": "stream",
     "text": [
      "+-------+--------------------+--------------------+--------------------+--------------------+------------------+-----------------+------------------+------------------+--------------------+-----------------+\n",
      "|summary|                ASIN|               TITLE|              IMGURL|          PRODUCTURL|             STARS|          REVIEWS|             price|         listPrice|        CATEGORYNAME|BOUGHTINLASTMONTH|\n",
      "+-------+--------------------+--------------------+--------------------+--------------------+------------------+-----------------+------------------+------------------+--------------------+-----------------+\n",
      "|  count|             2165926|             2165926|             2165926|             2165926|           2165926|          2165926|           2165926|           2165926|             2165926|          2165926|\n",
      "|   mean|2.3207400514224043E9|   2.862830523638E10|                NULL|                NULL|2.6236609653327503|545.7390917325893|111.22072642816451| 4.651383025089083|                NULL|9.004624350047047|\n",
      "| stddev| 2.524953918897146E9|1.430223267760279...|                NULL|                NULL|  2.14990454725214|4355.224739140888| 497.6652803233805|29.843922796005117|                NULL|98.38264588737069|\n",
      "|    min|          0000657999| 10\" Faucet Hole ...|      No Image Found|https://www.amazo...|               0.0|                0|               0.0|               0.0|3D Printing  Scan...|                0|\n",
      "|    max|          TCHLS5408E|🚀 Playmaker Toys...|https://m.media-a...|https://www.amazo...|               5.0|             9999|           40900.0|            999.99|     Women's Watches|             9000|\n",
      "+-------+--------------------+--------------------+--------------------+--------------------+------------------+-----------------+------------------+------------------+--------------------+-----------------+\n",
      "\n"
     ]
    }
   ],
   "source": [
    "# Handling missing values by removing rows with null in important columns\n",
    "df_cleaned = df.dropna(subset=[\"asin\", \"title\", \"categoryName\", \"stars\", \"reviews\", \"price\", \"boughtInLastMonth\"])\n",
    "\n",
    "# Convert `isBestSeller` to boolean type, if not already\n",
    "df_cleaned = df_cleaned.withColumn(\"isBestSeller\", col(\"isBestSeller\").cast(\"boolean\"))\n",
    "\n",
    "# Convert `price` and `listPrice` to numeric types (float) and handle any data cleaning there\n",
    "df_cleaned = df_cleaned.withColumn(\"price\", round(col(\"price\"), 2))\n",
    "df_cleaned = df_cleaned.withColumn(\"listPrice\", round(col(\"listPrice\"), 2))\n",
    "\n",
    "# Basic statistics\n",
    "df_cleaned.describe().show()"
   ]
  },
  {
   "cell_type": "code",
   "execution_count": 11,
   "metadata": {},
   "outputs": [
    {
     "name": "stdout",
     "output_type": "stream",
     "text": [
      "+--------------------+----------------+------+-------------------+----------------+-----------------+--------------+\n",
      "|               title|    categoryName| price|discount_percentage|popularity_score|sales_performance|reviewCategory|\n",
      "+--------------------+----------------+------+-------------------+----------------+-----------------+--------------+\n",
      "|The Two Marys Wat...|Handmade Artwork|461.95|               NULL|             0.0|        Low Sales|           Low|\n",
      "|Taking on Provisi...|Handmade Artwork|293.95|               NULL|             0.0|        Low Sales|           Low|\n",
      "|Street Scene, Chr...|Handmade Artwork|265.95|               NULL|             0.0|        Low Sales|           Low|\n",
      "|The First Animals...|Handmade Artwork|351.95|               NULL|             0.0|        Low Sales|           Low|\n",
      "|Une dame sous la ...|Handmade Artwork|469.95|               NULL|             0.0|        Low Sales|           Low|\n",
      "+--------------------+----------------+------+-------------------+----------------+-----------------+--------------+\n",
      "only showing top 5 rows\n",
      "\n"
     ]
    }
   ],
   "source": [
    "# Calculate the discount percentage\n",
    "from pyspark.sql.functions import when\n",
    "\n",
    "df_cleaned = df_cleaned.withColumn(\"discount_percentage\", \n",
    "                                   round(((col(\"listPrice\") - col(\"price\")) / col(\"listPrice\")) * 100, 2))\n",
    "\n",
    "# Create a popularity score as a product of reviews and stars (ratings)\n",
    "df_cleaned = df_cleaned.withColumn(\"popularity_score\", col(\"reviews\") * col(\"stars\"))\n",
    "\n",
    "# Categorizing products into \"High Sales\" and \"Low Sales\" based on units sold last month\n",
    "df_cleaned = df_cleaned.withColumn(\"sales_performance\", \n",
    "                                   when(col(\"boughtInLastMonth\") > 100, \"High Sales\").otherwise(\"Low Sales\"))\n",
    "\n",
    "# Classify products based on reviews count (as proxy for sales performance)\n",
    "df_cleaned =  df_cleaned.withColumn(\"reviewCategory\", when(col(\"reviews\") > 1000, \"High\").when(col(\"reviews\") > 100, \"Medium\").otherwise(\"Low\"))\n",
    "\n",
    "# Show a few records after feature engineering\n",
    "df_cleaned.select(\"title\", \"categoryName\", \"price\", \"discount_percentage\", \"popularity_score\", \"sales_performance\",\"reviewCategory\").show(5)\n"
   ]
  },
  {
   "cell_type": "code",
   "execution_count": 12,
   "metadata": {},
   "outputs": [
    {
     "name": "stdout",
     "output_type": "stream",
     "text": [
      "+--------------------+----------------------+------------------+---------------------+\n",
      "|        categoryName|sum(boughtInLastMonth)|        avg(price)|avg(popularity_score)|\n",
      "+--------------------+----------------------+------------------+---------------------+\n",
      "|              Beauty|             3470100.0| 23.02486917983499|   11706.788172789406|\n",
      "|             Grocery|             1609450.0| 25.56372952289839|   3542.2711825899837|\n",
      "|       Home  Kitchen|             1251950.0|51.219832338732054|   24721.365558397254|\n",
      "|        Pet Supplies|             1063400.0| 34.00641321613692|   11074.306946944853|\n",
      "|Health  Personal ...|              988750.0|28.642503282275396|    8695.916455142215|\n",
      "|Health Care Products|              711300.0| 28.03775949540616|    5354.033634992452|\n",
      "|         Toys  Games|              678800.0|34.503308351177054|    8909.378533190615|\n",
      "|     Office Products|              550100.0|28.820169283276147|   10097.767412969288|\n",
      "|Home Storage  Org...|              510900.0| 37.58527390268777|   10457.522728819315|\n",
      "|                Baby|              507700.0| 27.89952384663185|   2973.7442136845307|\n",
      "|         Electronics|              419650.0|109.15859211152836|   29365.445257388026|\n",
      "| Patio, Lawn  Garden|              381450.0| 48.71544456521411|    5007.068097826069|\n",
      "|Clothing, Shoes  ...|              347900.0|30.315379660355376|   11962.407358969338|\n",
      "|    Sports  Outdoors|              329950.0|19.594888326385522|    8452.187745681938|\n",
      "|Tools  Home Impro...|              286750.0| 49.00116186693241|   11462.786726249604|\n",
      "|Kitchen Utensils ...|              281350.0|25.271082752061258|    7112.867533291055|\n",
      "|Industrial  Scien...|              277650.0| 42.88164540337774|     8279.34495309568|\n",
      "|  Household Cleaning|              244500.0| 66.80862567811847|    2935.498478885227|\n",
      "|             Bedding|              219450.0|  52.7887646076781|    10172.34504173622|\n",
      "|Arts  Crafts Supp...|              193600.0|23.249313407180715|   2768.5594251336947|\n",
      "+--------------------+----------------------+------------------+---------------------+\n",
      "only showing top 20 rows\n",
      "\n",
      "+-------------+-----+----------------------+\n",
      "| categoryName|price|sum(boughtInLastMonth)|\n",
      "+-------------+-----+----------------------+\n",
      "|       Beauty|14.99|              104650.0|\n",
      "|      Grocery|  0.0|               88350.0|\n",
      "|       Beauty|19.99|               86950.0|\n",
      "|       Beauty| 9.99|               77100.0|\n",
      "|       Beauty|  0.0|               76750.0|\n",
      "|       Beauty|11.99|               74700.0|\n",
      "|       Beauty|13.99|               64050.0|\n",
      "|       Beauty|24.99|               61150.0|\n",
      "|       Beauty|12.99|               59700.0|\n",
      "|       Beauty| 7.97|               50300.0|\n",
      "|Home  Kitchen|19.99|               50250.0|\n",
      "|       Beauty| 8.99|               47200.0|\n",
      "|       Beauty| 7.99|               46850.0|\n",
      "|       Beauty|11.97|               45850.0|\n",
      "|       Beauty|10.99|               45800.0|\n",
      "|       Beauty|17.99|               43000.0|\n",
      "|       Beauty| 6.99|               40200.0|\n",
      "|Home  Kitchen|29.99|               38400.0|\n",
      "|Home  Kitchen|  0.0|               38100.0|\n",
      "|       Beauty|29.99|               36350.0|\n",
      "+-------------+-----+----------------------+\n",
      "only showing top 20 rows\n",
      "\n"
     ]
    }
   ],
   "source": [
    "# Group by product category and summarize total sales and average price\n",
    "sales_by_category = df_cleaned.groupBy(\"categoryName\").agg(\n",
    "    {\"boughtInLastMonth\": \"sum\", \"price\": \"avg\", \"popularity_score\": \"avg\"}\n",
    ").orderBy(\"sum(boughtInLastMonth)\", ascending=False)\n",
    "\n",
    "# Show top-performing categories\n",
    "sales_by_category.show()\n",
    "\n",
    "# Sales performance by product category and price\n",
    "sales_by_price_category = df_cleaned.groupBy(\"categoryName\", \"price\").agg(\n",
    "    {\"boughtInLastMonth\": \"sum\"}\n",
    ").orderBy(\"sum(boughtInLastMonth)\", ascending=False)\n",
    "\n",
    "# Show price-based sales trends\n",
    "sales_by_price_category.show()"
   ]
  },
  {
   "cell_type": "code",
   "execution_count": 13,
   "metadata": {},
   "outputs": [
    {
     "name": "stdout",
     "output_type": "stream",
     "text": [
      "+------------------+------------+\n",
      "|      categoryName|totalReviews|\n",
      "+------------------+------------+\n",
      "|       Electronics|1.09694067E8|\n",
      "|            Beauty| 5.0192709E7|\n",
      "|      Data Storage| 3.3968817E7|\n",
      "|               Men| 2.7540946E7|\n",
      "|Televisions  Video| 2.6003143E7|\n",
      "|      Pet Supplies| 2.3943228E7|\n",
      "|             Women| 2.3700128E7|\n",
      "|     Home  Kitchen|   1.95412E7|\n",
      "|   Office Products| 1.7129606E7|\n",
      "|              Baby| 1.6712775E7|\n",
      "+------------------+------------+\n",
      "only showing top 10 rows\n",
      "\n"
     ]
    }
   ],
   "source": [
    "# a. Sales Performance by Category\n",
    "\n",
    "# Aggregating total reviews by category as a proxy for sales performance\n",
    "sales_performance = df_cleaned.groupBy(\"categoryName\").agg({\"reviews\": \"sum\"}).withColumnRenamed(\"sum(reviews)\", \"totalReviews\")\n",
    "sales_performance.orderBy(col(\"totalReviews\").desc()).show(10)"
   ]
  },
  {
   "cell_type": "code",
   "execution_count": 14,
   "metadata": {},
   "outputs": [
    {
     "name": "stdout",
     "output_type": "stream",
     "text": [
      "+--------+----------+\n",
      "|   price|avgReviews|\n",
      "+--------+----------+\n",
      "| 40900.0|       0.0|\n",
      "| 34552.5|       0.0|\n",
      "| 32079.9|       0.0|\n",
      "|29508.95|       0.0|\n",
      "|28012.45|       0.0|\n",
      "| 27890.8|       0.0|\n",
      "|27504.41|       0.0|\n",
      "|27409.95|       0.0|\n",
      "|26975.67|       0.0|\n",
      "| 26376.3|       0.0|\n",
      "+--------+----------+\n",
      "only showing top 10 rows\n",
      "\n"
     ]
    }
   ],
   "source": [
    "# b. Price Sensitivity Analysis\n",
    "# Price vs. Reviews Analysis\n",
    "price_sensitivity = df_cleaned.groupBy(\"price\").agg({\"reviews\": \"avg\"}).withColumnRenamed(\"avg(reviews)\", \"avgReviews\")\n",
    "price_sensitivity.orderBy(col(\"price\").desc()).show(10)\n"
   ]
  }
 ],
 "metadata": {
  "kernelspec": {
   "display_name": ".venv",
   "language": "python",
   "name": "python3"
  },
  "language_info": {
   "codemirror_mode": {
    "name": "ipython",
    "version": 3
   },
   "file_extension": ".py",
   "mimetype": "text/x-python",
   "name": "python",
   "nbconvert_exporter": "python",
   "pygments_lexer": "ipython3",
   "version": "3.10.11"
  }
 },
 "nbformat": 4,
 "nbformat_minor": 2
}
