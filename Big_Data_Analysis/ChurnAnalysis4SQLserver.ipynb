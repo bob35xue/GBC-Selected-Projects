{
 "cells": [
  {
   "cell_type": "code",
   "execution_count": 1,
   "metadata": {},
   "outputs": [],
   "source": [
    "\n",
    "from pyspark import SparkConf, SparkContext\n",
    "from pyspark.sql import SparkSession\n",
    "from pyspark.sql.functions import col, sum as _sum, count as _count, max as _max, date_add, current_date"
   ]
  },
  {
   "cell_type": "code",
   "execution_count": 2,
   "metadata": {},
   "outputs": [],
   "source": [
    "# sc = SparkContext(master = 'local')"
   ]
  },
  {
   "cell_type": "markdown",
   "metadata": {},
   "source": [
    "Step 1: Connect to the AdventureWorks2022 Database"
   ]
  },
  {
   "cell_type": "code",
   "execution_count": 6,
   "metadata": {},
   "outputs": [],
   "source": [
    "jdbc_driver_path = \"D:/Box/Apps/Spark/spark-3.5.3-bin-hadoop3/jars/mssql-jdbc-10.2.2.jre17.jar\"\n",
    "jdbc_url = \"jdbc:sqlserver://TM420UA\\\\SQLEXPRESS:1433;databaseName=AdventureWorks2022;integratedSecurity=true;trustServerCertificate=true\"\n",
    "# Initialize Spark session\n",
    "spark = SparkSession.builder.appName(\"ChurnAnalysis\").config(\"spark.driver.extraClassPath\", jdbc_driver_path).getOrCreate()\n",
    "# spark = SparkSession.builder.appName(\"PySpark SQL Server AdventureWorksAnalysis\").master('local').config(\"spark.jars\", jdbc_driver_path).getOrCreate()\n",
    "\n",
    "def read_sqlserver_query(query):\n",
    "    return spark.read.format(\"jdbc\") \\\n",
    "        .option(\"url\", jdbc_url) \\\n",
    "        .option(\"query\", query) \\\n",
    "        .option(\"driver\", \"com.microsoft.sqlserver.jdbc.SQLServerDriver\") \\\n",
    "        .load()"
   ]
  },
  {
   "cell_type": "markdown",
   "metadata": {},
   "source": [
    "2. Loading Data from SQL Server\n",
    "Need to load several tables related to sales, products, and customers from the AdventureWorks2022 database to perform this analysis. Below are some key tables for the analysis:\n",
    "\n",
    "Sales.SalesOrderHeader: Contains sales order information like customer, order date, and total due.\n",
    "Sales.Customer: Contains customer information (useful for identifying customer IDs)."
   ]
  },
  {
   "cell_type": "code",
   "execution_count": 7,
   "metadata": {},
   "outputs": [
    {
     "data": {
      "text/plain": [
       "<bound method DataFrame.show of DataFrame[SalesOrderID: int, RevisionNumber: int, OrderDate: timestamp, DueDate: timestamp, ShipDate: timestamp, Status: int, OnlineOrderFlag: boolean, SalesOrderNumber: string, PurchaseOrderNumber: string, AccountNumber: string, CustomerID: int, SalesPersonID: int, TerritoryID: int, BillToAddressID: int, ShipToAddressID: int, ShipMethodID: int, CreditCardID: int, CreditCardApprovalCode: string, CurrencyRateID: int, SubTotal: decimal(19,4), TaxAmt: decimal(19,4), Freight: decimal(19,4), TotalDue: decimal(19,4), Comment: string, rowguid: string, ModifiedDate: timestamp]>"
      ]
     },
     "execution_count": 7,
     "metadata": {},
     "output_type": "execute_result"
    }
   ],
   "source": [
    "# Load data from AdventureWorks2022 database\n",
    "# Load data from AdventureWorks2022 database using SQL queries\n",
    "customers_query = \"SELECT * FROM Sales.Customer\"\n",
    "sales_order_header_query = \"SELECT * FROM Sales.SalesOrderHeader\"\n",
    "\n",
    "customers_df = read_sqlserver_query(customers_query)\n",
    "sales_order_header_df = read_sqlserver_query(sales_order_header_query)\n",
    "\n",
    "sales_order_header_df.show"
   ]
  },
  {
   "cell_type": "markdown",
   "metadata": {},
   "source": [
    "Step 3: Perform the Analysis"
   ]
  },
  {
   "cell_type": "code",
   "execution_count": 8,
   "metadata": {},
   "outputs": [
    {
     "name": "stdout",
     "output_type": "stream",
     "text": [
      "High-Value Customers:\n",
      "+----------+----------+\n",
      "|CustomerID|TotalSpent|\n",
      "+----------+----------+\n",
      "|     14324| 5659.1783|\n",
      "|     22814|    5.5140|\n",
      "|     11407|   59.6590|\n",
      "|     28387|  645.2869|\n",
      "|     19897|  659.6408|\n",
      "|     15675| 7963.0500|\n",
      "|     24165| 3366.7583|\n",
      "|     27036|    8.0444|\n",
      "|     18546|   32.5754|\n",
      "|     11453| 9035.5630|\n",
      "|     17195| 3680.3876|\n",
      "|     17026|  288.8360|\n",
      "|     22768|  663.5083|\n",
      "|     28433|   36.0230|\n",
      "|     27082|  865.2040|\n",
      "|     15844| 3464.1198|\n",
      "|     12758|   82.8529|\n",
      "|     21463|   26.4869|\n",
      "|     18377| 2646.4419|\n",
      "|     25562| 1369.1926|\n",
      "+----------+----------+\n",
      "only showing top 20 rows\n",
      "\n"
     ]
    }
   ],
   "source": [
    "# current_date = current_date()\n",
    "\n",
    "# High-Value Customers: Customers with the highest total purchase value\n",
    "\n",
    "high_value_customers_query = \"\"\"\n",
    "    SELECT TOP 100 PERCENT c.CustomerID, SUM(soh.TotalDue) AS TotalSpent\n",
    "    FROM Sales.SalesOrderHeader soh\n",
    "    JOIN Sales.Customer c ON soh.CustomerID = c.CustomerID\n",
    "    GROUP BY c.CustomerID\n",
    "    ORDER BY TotalSpent DESC\n",
    "    \n",
    "\"\"\"\n",
    "# Execute the query using the function\n",
    "high_value_customers_df = read_sqlserver_query(high_value_customers_query)\n",
    "print(\"High-Value Customers:\")\n",
    "high_value_customers_df.show()"
   ]
  },
  {
   "cell_type": "code",
   "execution_count": 14,
   "metadata": {},
   "outputs": [
    {
     "name": "stdout",
     "output_type": "stream",
     "text": [
      "Churned high valuecustomers:\n",
      "+----------+----------+-------------------+\n",
      "|CustomerID|TotalSpent|      LastOrderDate|\n",
      "+----------+----------+-------------------+\n",
      "|     29017| 3953.9884|2011-11-15 00:00:00|\n",
      "|     27726| 3953.9884|2011-07-07 00:00:00|\n",
      "|     28573| 3953.9884|2011-09-21 00:00:00|\n",
      "|     29475| 3756.9890|2011-11-29 00:00:00|\n",
      "|     29140| 3953.9884|2011-12-06 00:00:00|\n",
      "|     28018| 3953.9884|2011-07-02 00:00:00|\n",
      "|     27577| 3953.9884|2011-06-08 00:00:00|\n",
      "|     28184| 3953.9884|2011-08-22 00:00:00|\n",
      "|     28221| 3953.9884|2011-09-15 00:00:00|\n",
      "|     29157| 3953.9884|2011-12-17 00:00:00|\n",
      "|     28470| 3756.9890|2012-02-04 00:00:00|\n",
      "|     28390| 3729.3640|2011-06-26 00:00:00|\n",
      "|     28407| 3729.3640|2011-10-14 00:00:00|\n",
      "|     28825| 3953.9884|2011-11-05 00:00:00|\n",
      "|     28164| 3953.9884|2011-08-14 00:00:00|\n",
      "|     28181| 3953.9884|2011-08-04 00:00:00|\n",
      "|     28765| 3953.9884|2011-10-11 00:00:00|\n",
      "|     29163| 3953.9884|2011-12-11 00:00:00|\n",
      "|     28805| 3953.9884|2011-11-25 00:00:00|\n",
      "|     28161| 3953.9884|2012-01-11 00:00:00|\n",
      "+----------+----------+-------------------+\n",
      "only showing top 20 rows\n",
      "\n"
     ]
    }
   ],
   "source": [
    "one_year_ago = \" DATEADD(year, -1, '2013-03-15')\"\n",
    "\n",
    "churned_high_value_customers_query = \"\"\"\n",
    "    SELECT TOP 100 PERCENT c.CustomerID, SUM(soh.TotalDue) AS TotalSpent, MAX(soh.OrderDate) AS LastOrderDate\n",
    "    FROM Sales.SalesOrderHeader soh\n",
    "    JOIN Sales.Customer c ON soh.CustomerID = c.CustomerID\n",
    "    GROUP BY c.CustomerID\n",
    "    HAVING MAX(soh.OrderDate) < DATEADD(year, -1, '2013-03-15')\n",
    "    ORDER BY TotalSpent DESC\n",
    "\"\"\"\n",
    "\n",
    "# Execute the query using the function\n",
    "churned_high_value_customers_df = read_sqlserver_query(churned_high_value_customers_query )\n",
    "\n",
    "print(\"Churned high valuecustomers:\")\n",
    "churned_high_value_customers_df.show()"
   ]
  },
  {
   "cell_type": "code",
   "execution_count": 15,
   "metadata": {},
   "outputs": [
    {
     "data": {
      "image/png": "[encoded data removed]",
      "text/plain": [
       "<Figure size 1000x600 with 1 Axes>"
      ]
     },
     "metadata": {},
     "output_type": "display_data"
    }
   ],
   "source": [
    "import matplotlib.pyplot as plt\n",
    "\n",
    "# Convert to Pandas DataFrame for visualization\n",
    "high_value_churned_pd = churned_high_value_customers_df.toPandas()\n",
    "\n",
    "\n",
    "# Plot high-value churned customers\n",
    "plt.figure(figsize=(10, 6))\n",
    "plt.hist(high_value_churned_pd[\"TotalSpent\"], bins=20, color='blue', alpha=0.7)\n",
    "plt.title(\"High-Value Churned Customers\")\n",
    "plt.xlabel(\"Total Spent\")\n",
    "plt.ylabel(\"Number of Customers\")\n",
    "plt.show()"
   ]
  },
  {
   "cell_type": "code",
   "execution_count": null,
   "metadata": {},
   "outputs": [],
   "source": [
    "# Stop Spark session\n",
    "spark.stop()"
   ]
  }
 ],
 "metadata": {
  "kernelspec": {
   "display_name": ".venv",
   "language": "python",
   "name": "python3"
  },
  "language_info": {
   "codemirror_mode": {
    "name": "ipython",
    "version": 3
   },
   "file_extension": ".py",
   "mimetype": "text/x-python",
   "name": "python",
   "nbconvert_exporter": "python",
   "pygments_lexer": "ipython3",
   "version": "3.10.11"
  }
 },
 "nbformat": 4,
 "nbformat_minor": 2
}
