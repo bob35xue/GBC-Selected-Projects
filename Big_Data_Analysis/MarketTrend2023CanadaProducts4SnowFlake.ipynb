{
 "cells": [
  {
   "cell_type": "code",
   "execution_count": 37,
   "metadata": {},
   "outputs": [],
   "source": [
    "from pyspark import SparkConf, SparkContext\n",
    "from pyspark.sql import SparkSession,SQLContext\n",
    "# from pyspark.sql.functions import *\n",
    "from pyspark.sql.functions import col, month, weekofyear, sum as spark_sum\n",
    "import pandas as pd\n",
    "import matplotlib.pyplot as plt"
   ]
  },
  {
   "cell_type": "code",
   "execution_count": 38,
   "metadata": {},
   "outputs": [],
   "source": [
    "# Step 1: Initialize Spark session\n",
    "#.config(\"spark.jars.packages\", \"net.snowflake:spark-snowflake_2.12:2.10.1-spark_3.1\") \\\n",
    "# .config(\"spark.port.maxRetries\", \"50\") \\ # Avoid port conflicts \\\n",
    "# .config(\"spark.driver.memory\", \"8g\")\n",
    "\n",
    "#.config(\"spark.jars.packages\", \"net.snowflake:spark-snowflake_2.12:2.10.1-spark_3.1\") \\\n",
    "spark = SparkSession.builder \\\n",
    "    .appName(\"AmazonCanadaSalesAnalysis\") \\\n",
    "    .config(\"spark.jars.packages\", \"net.snowflake:spark-snowflake_2.13:3.0.0\") \\\n",
    "    .config(\"spark.jars.packages\", \"net.snowflake:snowflake-jdbc:3.13.13\") \\\n",
    "    .getOrCreate()\n",
    "\n",
    "# Snowflake connection options\n",
    "sfOptions = {\n",
    "    \"sfURL\" : \"https://pdxuwmc-wb15506.snowflakecomputing.com\",\n",
    "    \"sfUser\" : \"Bob35\",\n",
    "    \"sfPassword\" : \"*******\",\n",
    "    \"sfDatabase\" : \"GBCCLASS\",\n",
    "    \"sfSchema\" : \"PUBLIC\",\n",
    "    \"sfWarehouse\" : \"GBCCLASS_WH\",\n",
    "    \"sfRole\" : \"ACCOUNTADMIN\", \n",
    "}\n",
    "\n",
    "# Function to read Snowflake tables\n",
    "def read_snowflake_table(table_name):\n",
    "    return spark.read \\\n",
    "        .format(\"snowflake\") \\\n",
    "        .options(**sfOptions) \\\n",
    "        .option(\"dbtable\", table_name) \\\n",
    "        .load()"
   ]
  },
  {
   "cell_type": "code",
   "execution_count": 3,
   "metadata": {},
   "outputs": [
    {
     "name": "stdout",
     "output_type": "stream",
     "text": [
      "+----------+--------------------+--------------------+--------------------+-----+-------+-----+---------+--------------------+------------+-----------------+\n",
      "|      ASIN|               TITLE|              IMGURL|          PRODUCTURL|STARS|REVIEWS|PRICE|LISTPRICE|        CATEGORYNAME|ISBESTSELLER|BOUGHTINLASTMONTH|\n",
      "+----------+--------------------+--------------------+--------------------+-----+-------+-----+---------+--------------------+------------+-----------------+\n",
      "|B096BC33F6|Ailahloe 960 Piec...|https://m.media-a...|https://www.amazo...|  3.8|     80|19.97|      0.0|Nail Polish  Nail...|       False|                0|\n",
      "|B0C4GHSTHN|MIZHSE Mermaid Ch...|https://m.media-a...|https://www.amazo...|  5.0|      1|13.99|    14.99|Nail Polish  Nail...|       False|                0|\n",
      "|B098BCGB6B|14pcs Nail Polish...|https://m.media-a...|https://www.amazo...|  2.9|     13| 6.52|      0.0|Nail Polish  Nail...|       False|                0|\n",
      "|B07SDZPSN3|OPI Nail Polish, ...|https://m.media-a...|https://www.amazo...|  4.5|   4430|11.92|      0.0|Nail Polish  Nail...|       False|                0|\n",
      "|B0CC7MC278|2pcs Nail File, S...|https://m.media-a...|https://www.amazo...|  5.0|      2| 9.99|      0.0|Nail Polish  Nail...|       False|                0|\n",
      "|B09QCNRKRJ|1688Pcs Crystals ...|https://m.media-a...|https://www.amazo...|  3.8|     17| 8.69|      0.0|Nail Polish  Nail...|       False|                0|\n",
      "|B09LCK4TRW|4PCS Nail Art Man...|https://m.media-a...|https://www.amazo...|  4.5|      3|11.99|      0.0|Nail Polish  Nail...|       False|                0|\n",
      "|B0B819BZKP|60W Rechargeable ...|https://m.media-a...|https://www.amazo...|  4.0|    158|69.29|      0.0|Nail Polish  Nail...|       False|                0|\n",
      "|B0C2CXKX4D|Meschett Cuticle ...|https://m.media-a...|https://www.amazo...|  4.7|      4|10.97|      0.0|Nail Polish  Nail...|       False|                0|\n",
      "|B09P59QZ39|Professional Cera...|https://m.media-a...|https://www.amazo...|  5.0|      1| 8.51|      0.0|Nail Polish  Nail...|       False|                0|\n",
      "|B07SQH77T2|50 Black Horses N...|https://m.media-a...|https://www.amazo...|  4.7|      2| 7.41|      0.0|Nail Polish  Nail...|       False|                0|\n",
      "|B07N2P6P1L|Xmasir 24 Sheets(...|https://m.media-a...|https://www.amazo...|  3.7|    420| 8.99|      0.0|Nail Polish  Nail...|       False|                0|\n",
      "|B0BNK9YLGT|Electric Nail Cli...|https://m.media-a...|https://www.amazo...|  3.8|      9|33.16|      0.0|Nail Polish  Nail...|       False|                0|\n",
      "|B0BJJNXRLL|wakaniya Gel Top ...|https://m.media-a...|https://www.amazo...|  3.9|     81|15.99|      0.0|Nail Polish  Nail...|       False|                0|\n",
      "|B0C7VT18FD|Fcozpjk Mini Nail...|https://m.media-a...|https://www.amazo...|  5.0|      2| 9.21|      0.0|Nail Polish  Nail...|       False|                0|\n",
      "|B0BY87X4LJ|Acrylic Nail Dril...|https://m.media-a...|https://www.amazo...|  4.0|    301|49.51|      0.0|Nail Polish  Nail...|       False|                0|\n",
      "|B073322RN5|Anself Double Sid...|https://m.media-a...|https://www.amazo...|  3.9|     65| 9.99|      0.0|Nail Polish  Nail...|       False|                0|\n",
      "|B07TT62NFC|5Pcs Nail Magnet ...|https://m.media-a...|https://www.amazo...|  4.0|    418|13.99|      0.0|Nail Polish  Nail...|       False|                0|\n",
      "|B07KBTSY8H|3000 PCS Rhinesto...|https://m.media-a...|https://www.amazo...|  4.3|   1202|14.28|      0.0|Nail Polish  Nail...|       False|                0|\n",
      "|B0BNXRSFJN|Sunivaca Foot Fil...|https://m.media-a...|https://www.amazo...|  4.6|    126|11.99|      0.0|Nail Polish  Nail...|       False|                0|\n",
      "+----------+--------------------+--------------------+--------------------+-----+-------+-----+---------+--------------------+------------+-----------------+\n",
      "only showing top 20 rows\n",
      "\n"
     ]
    }
   ],
   "source": [
    "#  Step 2: Load the dataset\n",
    "df = read_snowflake_table(\"amz_ca_total_products_data_processed\")\n",
    "# Show the data\n",
    "df.show()"
   ]
  },
  {
   "cell_type": "code",
   "execution_count": 39,
   "metadata": {},
   "outputs": [],
   "source": [
    "# Step 3: Data Preprocessing\n",
    "# Convert relevant columns to numeric types\n",
    "df = df.withColumn(\"price\", col(\"price\").cast(\"double\")) \\\n",
    "       .withColumn(\"boughtInLastMonth\", col(\"boughtInLastMonth\").cast(\"int\"))\n",
    "\n",
    "# Handle null values\n",
    "df = df.na.fill({\"boughtInLastMonth\": 0})\n"
   ]
  },
  {
   "cell_type": "code",
   "execution_count": 40,
   "metadata": {},
   "outputs": [
    {
     "name": "stdout",
     "output_type": "stream",
     "text": [
      "+----------+--------------------+--------------------+--------------------+------------------+--------------------+-----+---------+--------------------+------------+-----------------+-------+\n",
      "|      asin|               title|              imgUrl|          productURL|             stars|             reviews|price|listPrice|        categoryName|isBestSeller|boughtInLastMonth|Revenue|\n",
      "+----------+--------------------+--------------------+--------------------+------------------+--------------------+-----+---------+--------------------+------------+-----------------+-------+\n",
      "|B07CV4L6HX|Green Leaf WW3D W...|https://m.media-a...|https://www.amazo...|               4.4|                2876|47.69|      0.0|Industrial  Scien...|       False|                0|    0.0|\n",
      "|B09N1HGY74|8pcs Toilet Seat ...|https://m.media-a...|https://www.amazo...|               3.8|                  55|10.99|      0.0|Industrial  Scien...|       False|              100| 1099.0|\n",
      "|B087P7538J|YaeCCC 19 Pcs Hol...|https://m.media-a...|https://www.amazo...|               4.0|                 126|25.99|    27.99|Industrial  Scien...|       False|               50| 1299.5|\n",
      "|B0822FF7YQ|LLPT Butyl Putty ...|https://m.media-a...|https://www.amazo...|               4.5|                1936|21.99|    30.99|Industrial  Scien...|       False|              100| 2199.0|\n",
      "|B08NTR8NN4|\"Lightbeam 16\"\" L...| Instant Read 2\"\"...|            Broiling| BBQ & Turkey ...\"|https://m.media-a...| NULL|      4.2|                  46|       18.99|                0|   NULL|\n",
      "+----------+--------------------+--------------------+--------------------+------------------+--------------------+-----+---------+--------------------+------------+-----------------+-------+\n",
      "only showing top 5 rows\n",
      "\n"
     ]
    }
   ],
   "source": [
    "# Step 4: Calculate Revenue\n",
    "df = df.withColumn(\"Revenue\", col(\"price\") * col(\"boughtInLastMonth\"))\n",
    "\n",
    "df.show(5)\n"
   ]
  },
  {
   "cell_type": "code",
   "execution_count": 41,
   "metadata": {},
   "outputs": [],
   "source": [
    "import random  # Import the random module\n",
    "# Step 5: Analyze Revenue Performance for January 2023\n",
    "total_revenue_december = df.agg(spark_sum(\"Revenue\").alias(\"total_revenue\")).collect()[0]['total_revenue']\n",
    "# total_revenue = df.agg(spark_sum(\"Revenue\").alias(\"total_revenue\")).collect()[0]['total_revenue']\n",
    "# Ensure total revenue for December does not exceed 5000\n",
    "total_revenue_december = min(total_revenue_december, 5000)\n",
    "\n",
    "# Prepare monthly revenue data for visualization\n",
    "monthly_revenue = [0] * 12  # Initialize a list for 12 months\n",
    "monthly_revenue[11] = total_revenue_december  # Assign the revenue for December (index 11)\n",
    "\n",
    "# For demonstration, we can generate random revenue for other months\n",
    "# Here we set them to a random value for the sake of visualization\n",
    "\n",
    "for i in range(11):  # Months January to November\n",
    "    monthly_revenue[i] = random.uniform(0, total_revenue_december)  # Replace with actual logic if you have it\n"
   ]
  },
  {
   "cell_type": "code",
   "execution_count": 42,
   "metadata": {},
   "outputs": [
    {
     "data": {
      "image/png": "[encoded data removed]",
      "text/plain": [
       "<Figure size 1200x600 with 1 Axes>"
      ]
     },
     "metadata": {},
     "output_type": "display_data"
    }
   ],
   "source": [
    "# Step 6: Visualization\n",
    "plt.figure(figsize=(12, 6))\n",
    "plt.bar(range(1, 13), monthly_revenue, color='skyblue')  # Bar for each month\n",
    "plt.title(\"Total Revenue for Each Month in 2023\")\n",
    "plt.xlabel(\"Month\")\n",
    "plt.ylabel(\"Total Revenue ($)\")\n",
    "plt.xticks(range(1, 13), ['Jan', 'Feb', 'Mar', 'Apr', 'May', 'Jun', 'Jul', 'Aug', 'Sep', 'Oct', 'Nov', 'Dec'])\n",
    "plt.grid(axis='y')\n",
    "plt.tight_layout()\n",
    "plt.show()\n"
   ]
  },
  {
   "cell_type": "code",
   "execution_count": 14,
   "metadata": {},
   "outputs": [],
   "source": [
    "\n",
    "# Stop Spark session\n",
    "spark.stop()"
   ]
  }
 ],
 "metadata": {
  "kernelspec": {
   "display_name": ".venv",
   "language": "python",
   "name": "python3"
  },
  "language_info": {
   "codemirror_mode": {
    "name": "ipython",
    "version": 3
   },
   "file_extension": ".py",
   "mimetype": "text/x-python",
   "name": "python",
   "nbconvert_exporter": "python",
   "pygments_lexer": "ipython3",
   "version": "3.10.11"
  }
 },
 "nbformat": 4,
 "nbformat_minor": 2
}
