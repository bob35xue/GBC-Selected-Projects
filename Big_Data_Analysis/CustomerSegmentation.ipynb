{
 "cells": [
  {
   "cell_type": "markdown",
   "metadata": {},
   "source": [
    "1. Setting up the Environment and Loading the Dataset\n",
    "Install PySpark and Pandas (if not installed)\n",
    "pip install pyspark pandas"
   ]
  },
  {
   "cell_type": "code",
   "execution_count": 1,
   "metadata": {},
   "outputs": [],
   "source": [
    "# Load the Data\n",
    "\n",
    "import pandas as pd\n",
    "from pyspark.sql import SparkSession\n",
    "\n",
    "# Start a PySpark session\n",
    "spark = SparkSession.builder.appName(\"EcommerceAnalysis\").getOrCreate()\n",
    "\n",
    "# Load the dataset into a Pandas DataFrame (can be loaded directly from a CSV)\n",
    "file_path = \"data/OnlineRetail.csv\"\n",
    "df_pandas = pd.read_csv(file_path, encoding='unicode_escape')\n",
    "\n",
    "# Convert the Pandas DataFrame into a PySpark DataFrame\n",
    "df_spark = spark.createDataFrame(df_pandas)\n"
   ]
  },
  {
   "cell_type": "markdown",
   "metadata": {},
   "source": [
    "2. Data Cleaning\n",
    "Handle Missing and Invalid Values"
   ]
  },
  {
   "cell_type": "code",
   "execution_count": 2,
   "metadata": {},
   "outputs": [
    {
     "name": "stdout",
     "output_type": "stream",
     "text": [
      "+---------+---------+--------------------+--------+--------------+---------+----------+--------------+\n",
      "|InvoiceNo|StockCode|         Description|Quantity|   InvoiceDate|UnitPrice|CustomerID|       Country|\n",
      "+---------+---------+--------------------+--------+--------------+---------+----------+--------------+\n",
      "|   536365|   85123A|WHITE HANGING HEA...|       6|12/1/2010 8:26|     2.55|   17850.0|United Kingdom|\n",
      "|   536365|    71053| WHITE METAL LANTERN|       6|12/1/2010 8:26|     3.39|   17850.0|United Kingdom|\n",
      "|   536365|   84406B|CREAM CUPID HEART...|       8|12/1/2010 8:26|     2.75|   17850.0|United Kingdom|\n",
      "|   536365|   84029G|KNITTED UNION FLA...|       6|12/1/2010 8:26|     3.39|   17850.0|United Kingdom|\n",
      "|   536365|   84029E|RED WOOLLY HOTTIE...|       6|12/1/2010 8:26|     3.39|   17850.0|United Kingdom|\n",
      "+---------+---------+--------------------+--------+--------------+---------+----------+--------------+\n",
      "only showing top 5 rows\n",
      "\n"
     ]
    }
   ],
   "source": [
    "from pyspark.sql.functions import col\n",
    "\n",
    "# Drop rows with missing CustomerID and InvoiceNo\n",
    "df_clean = df_spark.na.drop(subset=[\"CustomerID\", \"InvoiceNo\"])\n",
    "\n",
    "# Filter out negative or zero quantities and invalid UnitPrice values\n",
    "df_clean = df_clean.filter((col(\"Quantity\") > 0) & (col(\"UnitPrice\") > 0))\n",
    "\n",
    "# Check cleaned data\n",
    "df_clean.show(5)"
   ]
  },
  {
   "cell_type": "markdown",
   "metadata": {},
   "source": [
    "3. Data Preprocessing\n",
    "Compute Total Purchase Value"
   ]
  },
  {
   "cell_type": "code",
   "execution_count": 3,
   "metadata": {},
   "outputs": [
    {
     "name": "stdout",
     "output_type": "stream",
     "text": [
      "+---------+----------+------------------+\n",
      "|InvoiceNo|CustomerID|        TotalValue|\n",
      "+---------+----------+------------------+\n",
      "|   536365|   17850.0|15.299999999999999|\n",
      "|   536365|   17850.0|             20.34|\n",
      "|   536365|   17850.0|              22.0|\n",
      "|   536365|   17850.0|             20.34|\n",
      "|   536365|   17850.0|             20.34|\n",
      "+---------+----------+------------------+\n",
      "only showing top 5 rows\n",
      "\n"
     ]
    }
   ],
   "source": [
    "from pyspark.sql.functions import expr\n",
    "\n",
    "# Create a new column for the total purchase value per transaction\n",
    "df_clean = df_clean.withColumn(\"TotalValue\", col(\"Quantity\") * col(\"UnitPrice\"))\n",
    "\n",
    "# Check for new column\n",
    "df_clean.select(\"InvoiceNo\", \"CustomerID\", \"TotalValue\").show(5)"
   ]
  },
  {
   "cell_type": "code",
   "execution_count": 4,
   "metadata": {},
   "outputs": [
    {
     "name": "stdout",
     "output_type": "stream",
     "text": [
      "+----------+---------+------------------+----------------+\n",
      "|CustomerID|Frequency|          Monetary|LastPurchaseDate|\n",
      "+----------+---------+------------------+----------------+\n",
      "|   12346.0|        1|           77183.6| 1/18/2011 10:01|\n",
      "|   12347.0|      182|            4310.0|   8/2/2011 8:48|\n",
      "|   12348.0|       31|           1797.24| 9/25/2011 13:13|\n",
      "|   12349.0|       73|           1757.55| 11/21/2011 9:51|\n",
      "|   12350.0|       17|334.40000000000003|  2/2/2011 16:01|\n",
      "+----------+---------+------------------+----------------+\n",
      "only showing top 5 rows\n",
      "\n"
     ]
    }
   ],
   "source": [
    "# Aggregate Data by Customer\n",
    "# compute total purchases, frequency of transactions, and recency for each customer\n",
    "from pyspark.sql.functions import count, sum, avg, max\n",
    "\n",
    "# Calculate RFM (Recency, Frequency, Monetary) features for each customer\n",
    "df_rfm = df_clean.groupBy(\"CustomerID\") \\\n",
    "    .agg(\n",
    "        count(\"InvoiceNo\").alias(\"Frequency\"),       # Frequency of transactions\n",
    "        sum(\"TotalValue\").alias(\"Monetary\"),         # Total value of purchases (Monetary)\n",
    "        max(\"InvoiceDate\").alias(\"LastPurchaseDate\") # Most recent purchase date (Recency)\n",
    "    )\n",
    "\n",
    "df_rfm.show(5)\n"
   ]
  },
  {
   "cell_type": "markdown",
   "metadata": {},
   "source": [
    "4. Customer Segmentation: RFM Analysis\n",
    "Using Recency, Frequency, and Monetary values to segment customers.\n",
    "\n",
    "Define RFM Scores\n",
    "To score customers on a scale for recency, frequency, and monetary."
   ]
  },
  {
   "cell_type": "code",
   "execution_count": 5,
   "metadata": {},
   "outputs": [
    {
     "name": "stdout",
     "output_type": "stream",
     "text": [
      "+----------+---------+------------------+----------------+-------+------------+--------------+-------------+--------+\n",
      "|CustomerID|Frequency|          Monetary|LastPurchaseDate|Recency|RecencyScore|FrequencyScore|MonetaryScore|RFMScore|\n",
      "+----------+---------+------------------+----------------+-------+------------+--------------+-------------+--------+\n",
      "|   12346.0|        1|           77183.6| 1/18/2011 10:01|   NULL|           1|             1|            5|       7|\n",
      "|   12347.0|      182|            4310.0|   8/2/2011 8:48|   NULL|           1|             5|            3|       9|\n",
      "|   12348.0|       31|           1797.24| 9/25/2011 13:13|   NULL|           1|             4|            2|       7|\n",
      "|   12349.0|       73|           1757.55| 11/21/2011 9:51|   NULL|           1|             5|            2|       8|\n",
      "|   12350.0|       17|334.40000000000003|  2/2/2011 16:01|   NULL|           1|             3|            1|       5|\n",
      "+----------+---------+------------------+----------------+-------+------------+--------------+-------------+--------+\n",
      "only showing top 5 rows\n",
      "\n"
     ]
    }
   ],
   "source": [
    "# Compute Recency (how recent the last purchase was in days)\n",
    "from pyspark.sql.functions import datediff, current_date\n",
    "\n",
    "df_rfm = df_rfm.withColumn(\"Recency\", datediff(current_date(), col(\"LastPurchaseDate\")))\n",
    "\n",
    "# Divide customers into bins based on Recency, Frequency, and Monetary scores\n",
    "# Example: using quantile-based scoring\n",
    "\n",
    "# Recency score (lower is better)\n",
    "df_rfm = df_rfm.withColumn(\"RecencyScore\", expr(\"CASE WHEN Recency <= 30 THEN 5 WHEN Recency <= 60 THEN 4 WHEN Recency <= 90 THEN 3 WHEN Recency <= 120 THEN 2 ELSE 1 END\"))\n",
    "\n",
    "# Frequency score (higher is better)\n",
    "df_rfm = df_rfm.withColumn(\"FrequencyScore\", expr(\"CASE WHEN Frequency >= 50 THEN 5 WHEN Frequency >= 20 THEN 4 WHEN Frequency >= 10 THEN 3 WHEN Frequency >= 5 THEN 2 ELSE 1 END\"))\n",
    "\n",
    "# Monetary score (higher is better)\n",
    "df_rfm = df_rfm.withColumn(\"MonetaryScore\", expr(\"CASE WHEN Monetary >= 10000 THEN 5 WHEN Monetary >= 5000 THEN 4 WHEN Monetary >= 2000 THEN 3 WHEN Monetary >= 1000 THEN 2 ELSE 1 END\"))\n",
    "\n",
    "# Calculate total RFM score\n",
    "df_rfm = df_rfm.withColumn(\"RFMScore\", col(\"RecencyScore\") + col(\"FrequencyScore\") + col(\"MonetaryScore\"))\n",
    "\n",
    "df_rfm.show(5)\n"
   ]
  },
  {
   "cell_type": "markdown",
   "metadata": {},
   "source": [
    "5. Identify High-Value and Infrequent Buyers\n",
    "High-Value Customers\n",
    "We can identify high-value customers as those with the highest Monetary scores."
   ]
  },
  {
   "cell_type": "code",
   "execution_count": 6,
   "metadata": {},
   "outputs": [
    {
     "name": "stdout",
     "output_type": "stream",
     "text": [
      "+----------+---------+------------------+----------------+-------+------------+--------------+-------------+--------+\n",
      "|CustomerID|Frequency|          Monetary|LastPurchaseDate|Recency|RecencyScore|FrequencyScore|MonetaryScore|RFMScore|\n",
      "+----------+---------+------------------+----------------+-------+------------+--------------+-------------+--------+\n",
      "|   12471.0|      460|          19824.05| 9/22/2011 17:25|   NULL|           1|             5|            5|      11|\n",
      "|   12744.0|      222|          21279.29| 7/18/2011 11:55|   NULL|           1|             5|            5|      11|\n",
      "|   12477.0|      300|13219.739999999998|  8/31/2011 9:11|   NULL|           1|             5|            5|      11|\n",
      "|   12557.0|       33|          11990.96|  7/4/2011 13:19|   NULL|           1|             4|            5|      10|\n",
      "|   12731.0|      274|          18895.91| 9/30/2011 12:06|   NULL|           1|             5|            5|      11|\n",
      "|   12621.0|      467|13689.669999999998| 9/19/2011 14:56|   NULL|           1|             5|            5|      11|\n",
      "|   12415.0|      714|         124914.53|  9/1/2011 13:51|   NULL|           1|             5|            5|      11|\n",
      "|   12678.0|      165|17628.460000000003| 9/22/2011 10:52|   NULL|           1|             5|            5|      11|\n",
      "|   12346.0|        1|           77183.6| 1/18/2011 10:01|   NULL|           1|             1|            5|       7|\n",
      "|   12681.0|      638|          13787.54| 9/23/2011 12:09|   NULL|           1|             5|            5|      11|\n",
      "+----------+---------+------------------+----------------+-------+------------+--------------+-------------+--------+\n",
      "only showing top 10 rows\n",
      "\n"
     ]
    }
   ],
   "source": [
    "high_value_customers = df_rfm.filter(col(\"MonetaryScore\") >= 4).orderBy(col(\"MonetaryScore\").desc())\n",
    "high_value_customers.show(10)\n"
   ]
  },
  {
   "cell_type": "markdown",
   "metadata": {},
   "source": [
    "Infrequent Buyers\n",
    "Customers who make infrequent purchases but have significant recency and monetary values can be categorized as infrequent buyers."
   ]
  },
  {
   "cell_type": "code",
   "execution_count": 7,
   "metadata": {},
   "outputs": [
    {
     "name": "stdout",
     "output_type": "stream",
     "text": [
      "+----------+---------+-----------------+----------------+-------+------------+--------------+-------------+--------+\n",
      "|CustomerID|Frequency|         Monetary|LastPurchaseDate|Recency|RecencyScore|FrequencyScore|MonetaryScore|RFMScore|\n",
      "+----------+---------+-----------------+----------------+-------+------------+--------------+-------------+--------+\n",
      "|   12346.0|        1|          77183.6| 1/18/2011 10:01|   NULL|           1|             1|            5|       7|\n",
      "|   15195.0|        1|           3861.0| 12/7/2011 12:20|   NULL|           1|             1|            3|       5|\n",
      "|   13135.0|        1|           3096.0| 5/27/2011 10:52|   NULL|           1|             1|            3|       5|\n",
      "|   17846.0|        1|           2033.1| 9/15/2011 15:20|   NULL|           1|             1|            3|       5|\n",
      "|   18133.0|        1|931.4999999999999| 5/11/2011 14:14|   NULL|           1|             1|            1|       3|\n",
      "|   13270.0|        1|            590.0| 12/8/2010 14:53|   NULL|           1|             1|            1|       3|\n",
      "|   17291.0|        1|550.8000000000001|  2/4/2011 13:04|   NULL|           1|             1|            1|       3|\n",
      "|   17443.0|        1|           534.24|  5/4/2011 10:47|   NULL|           1|             1|            1|       3|\n",
      "|   15389.0|        1|            500.0| 6/20/2011 16:18|   NULL|           1|             1|            1|       3|\n",
      "|   16742.0|        1|            464.9|10/24/2011 12:02|   NULL|           1|             1|            1|       3|\n",
      "+----------+---------+-----------------+----------------+-------+------------+--------------+-------------+--------+\n",
      "only showing top 10 rows\n",
      "\n"
     ]
    }
   ],
   "source": [
    "infrequent_buyers = df_rfm.filter(col(\"Frequency\") <= 1).orderBy(col(\"Monetary\").desc())\n",
    "infrequent_buyers.show(10)"
   ]
  },
  {
   "cell_type": "markdown",
   "metadata": {},
   "source": [
    "6. Pareto Principle Analysis (80/20 Rule)\n",
    "Calculate the top 20% customers contributing to 80% of revenue.\n",
    "\n",
    "Calculate Total Revenue and Rank Customers by Monetary Value"
   ]
  },
  {
   "cell_type": "code",
   "execution_count": 8,
   "metadata": {},
   "outputs": [
    {
     "name": "stdout",
     "output_type": "stream",
     "text": [
      "+----------+---------+------------------+----------------+-------+------------+--------------+-------------+--------+----+------------------+------------------+\n",
      "|CustomerID|Frequency|          Monetary|LastPurchaseDate|Recency|RecencyScore|FrequencyScore|MonetaryScore|RFMScore|Rank| CumulativeRevenue| RevenuePercentage|\n",
      "+----------+---------+------------------+----------------+-------+------------+--------------+-------------+--------+----+------------------+------------------+\n",
      "|   14646.0|     2076| 280206.0199999999|  9/8/2011 11:28|   NULL|           1|             5|            5|      11|   1| 280206.0199999999|3.1443518579620333|\n",
      "|   18102.0|      431|259657.29999999996| 9/28/2011 16:17|   NULL|           1|             5|            5|      11|   2| 539863.3199999998| 6.058114787425167|\n",
      "|   17450.0|      337|194550.78999999998|  9/5/2011 13:52|   NULL|           1|             5|            5|      11|   3| 734414.1099999999| 8.241280366824503|\n",
      "|   16446.0|        3|          168472.5|  5/18/2011 9:52|   NULL|           1|             1|            5|       7|   4| 902886.6099999999|10.131806553201613|\n",
      "|   14911.0|     5675|143825.05999999994|  9/7/2011 14:13|   NULL|           1|             5|            5|      11|   5|1046711.6699999998|11.745749731983073|\n",
      "|   12415.0|      714|         124914.53|  9/1/2011 13:51|   NULL|           1|             5|            5|      11|   6|1171626.1999999997|13.147487048304665|\n",
      "|   14156.0|     1400|117379.62999999999|  9/7/2011 16:00|   NULL|           1|             5|            5|      11|   7|1289005.8299999996|14.464670946342956|\n",
      "|   17511.0|      963|          91062.38|  9/7/2011 11:41|   NULL|           1|             5|            5|      11|   8|1380068.2099999995| 15.48653394465914|\n",
      "|   16029.0|      242|          81024.84|   9/7/2011 9:45|   NULL|           1|             5|            5|      11|   9|1461093.0499999996|16.395759971262983|\n",
      "|   12346.0|        1|           77183.6| 1/18/2011 10:01|   NULL|           1|             1|            5|       7|  10|1538276.6499999997|17.261881248972145|\n",
      "+----------+---------+------------------+----------------+-------+------------+--------------+-------------+--------+----+------------------+------------------+\n",
      "only showing top 10 rows\n",
      "\n"
     ]
    }
   ],
   "source": [
    "from pyspark.sql.window import Window\n",
    "from pyspark.sql.functions import rank\n",
    "\n",
    "# Rank customers by their monetary contribution\n",
    "window_spec = Window.orderBy(col(\"Monetary\").desc())\n",
    "df_rfm = df_rfm.withColumn(\"Rank\", rank().over(window_spec))\n",
    "\n",
    "# Calculate total revenue\n",
    "total_revenue = df_rfm.agg(sum(\"Monetary\")).collect()[0][0]\n",
    "\n",
    "# Calculate the cumulative revenue for customers\n",
    "df_rfm = df_rfm.withColumn(\"CumulativeRevenue\", sum(\"Monetary\").over(window_spec))\n",
    "\n",
    "# Calculate percentage of total revenue\n",
    "df_rfm = df_rfm.withColumn(\"RevenuePercentage\", (col(\"CumulativeRevenue\") / total_revenue) * 100)\n",
    "\n",
    "# Filter customers contributing to 80% of revenue\n",
    "top_20_customers = df_rfm.filter(col(\"RevenuePercentage\") <= 80)\n",
    "top_20_customers.show(10)\n"
   ]
  },
  {
   "cell_type": "markdown",
   "metadata": {},
   "source": [
    "To visualize the top 20% of customers contributing to 80% of the revenue, we can create a Pareto Chart or a Cumulative Revenue Distribution chart. The most effective approach is to visualize the cumulative revenue contribution by customer rank to show the 80/20 rule.\n",
    "Step-by-Step Visualization:\n",
    "Extract the Data from PySpark:\n",
    "First, we need to collect the data related to customer ranks and cumulative revenue from PySpark and convert it into a Pandas DataFrame for easy plotting.\n",
    "\n",
    "Create the Pareto Chart:\n",
    "We will plot the cumulative revenue percentage on the y-axis and customer rank (percentile) on the x-axis. A horizontal line at 80% will show the threshold where 20% of customers contribute to 80% of the revenue.\n"
   ]
  },
  {
   "cell_type": "code",
   "execution_count": 9,
   "metadata": {},
   "outputs": [],
   "source": [
    "# Step 1: Collect Data from PySpark to Pandas\n",
    "# Collect the data with customer rank and revenue percentage\n",
    "df_pandas_rfm = df_rfm.select(\"CustomerID\", \"Monetary\", \"Rank\", \"CumulativeRevenue\", \"RevenuePercentage\").toPandas()\n",
    "\n",
    "# Sort by Rank for visualization purposes\n",
    "df_pandas_rfm = df_pandas_rfm.sort_values(by=\"Rank\")\n"
   ]
  },
  {
   "cell_type": "code",
   "execution_count": 10,
   "metadata": {},
   "outputs": [
    {
     "data": {
      "image/png": "[encoded data removed]",
      "text/plain": [
       "<Figure size 1000x600 with 1 Axes>"
      ]
     },
     "metadata": {},
     "output_type": "display_data"
    }
   ],
   "source": [
    "# Step 2: Pareto Chart (Cumulative Revenue Distribution)\n",
    "import matplotlib.pyplot as plt\n",
    "import seaborn as sns\n",
    "\n",
    "# Set plot style\n",
    "sns.set(style=\"whitegrid\")\n",
    "\n",
    "# Plot cumulative revenue as a function of customer rank\n",
    "plt.figure(figsize=(10,6))\n",
    "\n",
    "# Line plot for cumulative revenue percentage\n",
    "plt.plot(df_pandas_rfm['Rank'], df_pandas_rfm['RevenuePercentage'], color='blue', lw=2)\n",
    "\n",
    "# Horizontal line at 80% (Pareto threshold)\n",
    "plt.axhline(80, color='red', linestyle='--')\n",
    "\n",
    "# Labeling\n",
    "plt.title(\"Pareto Chart: Top 20% Customers Contributing to 80% of Revenue\", fontsize=16)\n",
    "plt.xlabel(\"Customer Rank\", fontsize=12)\n",
    "plt.ylabel(\"Cumulative Revenue (%)\", fontsize=12)\n",
    "\n",
    "# Annotate the 80% line\n",
    "plt.text(df_pandas_rfm['Rank'].max()*0.7, 81, '80% Revenue', color='red', fontsize=12)\n",
    "\n",
    "# Show plot\n",
    "plt.show()"
   ]
  },
  {
   "cell_type": "markdown",
   "metadata": {},
   "source": [
    "Interpretation of the Plot:\n",
    "X-axis: The rank of customers (sorted by their revenue contribution). Each point represents a customer.\n",
    "Y-axis: The cumulative percentage of total revenue.\n",
    "Red dashed line: This shows the 80% threshold, illustrating the Pareto principle. We can see at which point the top 20% of customers are contributing 80% of the total revenue.\n",
    "\n",
    "Example Output:\n",
    "The graph will show a sharp increase in revenue contribution with the first few customers (the high-value customers) and flatten as it progresses towards less contributing customers."
   ]
  }
 ],
 "metadata": {
  "kernelspec": {
   "display_name": ".venv",
   "language": "python",
   "name": "python3"
  },
  "language_info": {
   "codemirror_mode": {
    "name": "ipython",
    "version": 3
   },
   "file_extension": ".py",
   "mimetype": "text/x-python",
   "name": "python",
   "nbconvert_exporter": "python",
   "pygments_lexer": "ipython3",
   "version": "3.10.11"
  }
 },
 "nbformat": 4,
 "nbformat_minor": 2
}
