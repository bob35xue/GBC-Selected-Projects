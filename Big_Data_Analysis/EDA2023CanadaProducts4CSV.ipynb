{
 "cells": [
  {
   "cell_type": "markdown",
   "metadata": {},
   "source": []
  },
  {
   "cell_type": "markdown",
   "metadata": {},
   "source": [
    "1. Data Preprocessing\n",
    "First, load the dataset and preprocess it to handle any missing values and convert data types."
   ]
  },
  {
   "cell_type": "code",
   "execution_count": 14,
   "metadata": {},
   "outputs": [
    {
     "name": "stdout",
     "output_type": "stream",
     "text": [
      "root\n",
      " |-- asin: string (nullable = true)\n",
      " |-- title: string (nullable = true)\n",
      " |-- imgUrl: string (nullable = true)\n",
      " |-- productURL: string (nullable = true)\n",
      " |-- stars: string (nullable = true)\n",
      " |-- reviews: string (nullable = true)\n",
      " |-- price: string (nullable = true)\n",
      " |-- listPrice: string (nullable = true)\n",
      " |-- categoryName: string (nullable = true)\n",
      " |-- isBestSeller: string (nullable = true)\n",
      " |-- boughtInLastMonth: string (nullable = true)\n",
      "\n",
      "+----------+--------------------+--------------------+--------------------+------------------+--------------------+--------------------+---------+--------------------+------------+-----------------+\n",
      "|      asin|               title|              imgUrl|          productURL|             stars|             reviews|               price|listPrice|        categoryName|isBestSeller|boughtInLastMonth|\n",
      "+----------+--------------------+--------------------+--------------------+------------------+--------------------+--------------------+---------+--------------------+------------+-----------------+\n",
      "|B07CV4L6HX|Green Leaf WW3D W...|https://m.media-a...|https://www.amazo...|               4.4|                2876|               47.69|      0.0|Industrial  Scien...|       False|                0|\n",
      "|B09N1HGY74|8pcs Toilet Seat ...|https://m.media-a...|https://www.amazo...|               3.8|                  55|               10.99|      0.0|Industrial  Scien...|       False|              100|\n",
      "|B087P7538J|YaeCCC 19 Pcs Hol...|https://m.media-a...|https://www.amazo...|               4.0|                 126|               25.99|    27.99|Industrial  Scien...|       False|               50|\n",
      "|B0822FF7YQ|LLPT Butyl Putty ...|https://m.media-a...|https://www.amazo...|               4.5|                1936|               21.99|    30.99|Industrial  Scien...|       False|              100|\n",
      "|B08NTR8NN4|\"Lightbeam 16\"\" L...| Instant Read 2\"\"...|            Broiling| BBQ & Turkey ...\"|https://m.media-a...|https://www.amazo...|      4.2|                  46|       18.99|              0.0|\n",
      "+----------+--------------------+--------------------+--------------------+------------------+--------------------+--------------------+---------+--------------------+------------+-----------------+\n",
      "only showing top 5 rows\n",
      "\n",
      "+-------+--------------------+--------------------+-------------------+---------------------+--------------------+--------------------+--------------------+-----------------+-------------------+--------------------+\n",
      "|summary|                asin|               title|             imgUrl|           productURL|               stars|             reviews|               price|        listPrice|       categoryName|   boughtInLastMonth|\n",
      "+-------+--------------------+--------------------+-------------------+---------------------+--------------------+--------------------+--------------------+-----------------+-------------------+--------------------+\n",
      "|  count|             2165911|             2165911|            2165909|              2165911|             2165911|             2165911|             2148537|          2155205|            2165911|             2165911|\n",
      "|   mean|2.3207400514224043E9|   2.862830523638E10|4.759527732915988E7| 1.7410990855378154E8|  10352.392593638207|   9385.717620749383|   8823.467813253965|8227.001898408442|  43432.75481984536|  10.041130265642446|\n",
      "| stddev|2.5249539188971467E9|1.430223267760279...|1.391511752329628E8| 1.3440217529102163E9|1.0140461074864132E7|1.0059444292093402E7|1.0021142457168495E7|9994003.050938366|  4658429.726720685|  143.13278613386817|\n",
      "|    min|          0000657999| 1990 Proof Like ...|                   |                     |                    |           Chrome OS|                 0.0|              0.0|  & Disabled users\"|      (ETL Approved)|\n",
      "|    max|          TCHLS5408E|📬 United States ...|   （2x3 b Elbow）\"|（Includes 5V/2A P...|एलईडी #JustLaunched\"|            workench|      1.462367931E10|   1.462368131E10|wedding cake stand\"|https://www.amazo...|\n",
      "+-------+--------------------+--------------------+-------------------+---------------------+--------------------+--------------------+--------------------+-----------------+-------------------+--------------------+\n",
      "\n"
     ]
    }
   ],
   "source": [
    "from pyspark.sql import SparkSession\n",
    "from pyspark.sql.functions import col, round\n",
    "\n",
    "# Initialize Spark Session\n",
    "spark = SparkSession.builder.appName(\"AmazonCanadaSalesAnalysis\").getOrCreate()\n",
    "\n",
    "# Load dataset (download the CSV file from the Kaggle URL locally first)\n",
    "# https://www.kaggle.com/datasets/asaniczka/amazon-canada-products-2023-2-1m-products\n",
    "file_path = 'data/amz_ca_total_products_data_processed.csv'\n",
    "\n",
    "# Load dataset into PySpark DataFrame\n",
    "df = spark.read.csv(file_path, header=True, inferSchema=True)\n",
    "\n",
    "# Show the schema and first few rows to understand the data\n",
    "df.printSchema()\n",
    "df.show(5)\n",
    "\n",
    "\n",
    "# Handling missing values by removing rows with null in important columns\n",
    "df_cleaned = df.dropna(subset=[\"asin\", \"title\", \"categoryName\", \"stars\", \"reviews\", \"price\", \"boughtInLastMonth\"])\n",
    "\n",
    "# Convert `isBestSeller` to boolean type, if not already\n",
    "df_cleaned = df_cleaned.withColumn(\"isBestSeller\", col(\"isBestSeller\").cast(\"boolean\"))\n",
    "\n",
    "# Convert `price` and `listPrice` to numeric types (float) and handle any data cleaning there\n",
    "df_cleaned = df_cleaned.withColumn(\"price\", round(col(\"price\"), 2))\n",
    "df_cleaned = df_cleaned.withColumn(\"listPrice\", round(col(\"listPrice\"), 2))\n",
    "\n",
    "# Basic statistics\n",
    "df_cleaned.describe().show()\n"
   ]
  },
  {
   "cell_type": "markdown",
   "metadata": {},
   "source": [
    "2. Feature Engineering\n",
    "Now, we’ll add some new features to enrich the analysis:\n",
    "\n",
    "Discount Percentage: The difference between the listPrice and price.\n",
    "Popularity Score: Combining product reviews and ratings.\n",
    "Sales Trend Analysis: Using the boughtInLastMonth to gauge sales performance."
   ]
  },
  {
   "cell_type": "code",
   "execution_count": 16,
   "metadata": {},
   "outputs": [
    {
     "name": "stdout",
     "output_type": "stream",
     "text": [
      "+--------------------+--------------------+-----+-------------------+------------------+-----------------+--------------+\n",
      "|               title|        categoryName|price|discount_percentage|  popularity_score|sales_performance|reviewCategory|\n",
      "+--------------------+--------------------+-----+-------------------+------------------+-----------------+--------------+\n",
      "|Green Leaf WW3D W...|Industrial  Scien...|47.69|               NULL|12654.400000000001|        Low Sales|          High|\n",
      "|8pcs Toilet Seat ...|Industrial  Scien...|10.99|               NULL|             209.0|        Low Sales|           Low|\n",
      "|YaeCCC 19 Pcs Hol...|Industrial  Scien...|25.99|               7.15|             504.0|        Low Sales|        Medium|\n",
      "|LLPT Butyl Putty ...|Industrial  Scien...|21.99|              29.04|            8712.0|        Low Sales|          High|\n",
      "|\"Lightbeam 16\"\" L...|                  46| NULL|               NULL|              NULL|        Low Sales|           Low|\n",
      "+--------------------+--------------------+-----+-------------------+------------------+-----------------+--------------+\n",
      "only showing top 5 rows\n",
      "\n"
     ]
    }
   ],
   "source": [
    "# Calculate the discount percentage\n",
    "from pyspark.sql.functions import when\n",
    "\n",
    "df_cleaned = df_cleaned.withColumn(\"discount_percentage\", \n",
    "                                   round(((col(\"listPrice\") - col(\"price\")) / col(\"listPrice\")) * 100, 2))\n",
    "\n",
    "# Create a popularity score as a product of reviews and stars (ratings)\n",
    "df_cleaned = df_cleaned.withColumn(\"popularity_score\", col(\"reviews\") * col(\"stars\"))\n",
    "\n",
    "# Categorizing products into \"High Sales\" and \"Low Sales\" based on units sold last month\n",
    "df_cleaned = df_cleaned.withColumn(\"sales_performance\", \n",
    "                                   when(col(\"boughtInLastMonth\") > 100, \"High Sales\").otherwise(\"Low Sales\"))\n",
    "\n",
    "# Classify products based on reviews count (as proxy for sales performance)\n",
    "df_cleaned =  df_cleaned.withColumn(\"reviewCategory\", when(col(\"reviews\") > 1000, \"High\").when(col(\"reviews\") > 100, \"Medium\").otherwise(\"Low\"))\n",
    "\n",
    "# Show a few records after feature engineering\n",
    "df_cleaned.select(\"title\", \"categoryName\", \"price\", \"discount_percentage\", \"popularity_score\", \"sales_performance\",\"reviewCategory\").show(5)\n"
   ]
  },
  {
   "cell_type": "markdown",
   "metadata": {},
   "source": [
    "3. Exploratory Data Analysis (EDA)\n",
    "We will now explore the data to understand which product categories and price ranges perform well. We'll also explore relationships between ratings, reviews, and sales."
   ]
  },
  {
   "cell_type": "code",
   "execution_count": 5,
   "metadata": {},
   "outputs": [
    {
     "name": "stdout",
     "output_type": "stream",
     "text": [
      "+--------------------+----------------------+------------------+---------------------+\n",
      "|        categoryName|sum(boughtInLastMonth)|        avg(price)|avg(popularity_score)|\n",
      "+--------------------+----------------------+------------------+---------------------+\n",
      "|              Beauty|             3460000.0|  22.9383352111156|   11721.571334299057|\n",
      "|             Grocery|             1607150.0| 25.55472130754945|   3538.7403220978313|\n",
      "|       Home  Kitchen|             1207250.0| 51.60657817109107|   24564.285309734485|\n",
      "|        Pet Supplies|             1049450.0| 33.54416929604863|   11130.233489283017|\n",
      "|Health  Personal ...|              984650.0|28.625196467990865|    8624.692803531994|\n",
      "|Health Care Products|              701450.0|27.715260204797016|    5348.252910646641|\n",
      "|         Toys  Games|              667300.0| 33.76112341197774|    8939.105226860294|\n",
      "|                Baby|              506150.0|27.809507491293935|    2977.076775026393|\n",
      "|     Office Products|              501700.0| 28.66612068965509|    10264.66774673007|\n",
      "|Home Storage  Org...|              497350.0| 37.44143233280671|   10482.457503949441|\n",
      "|         Electronics|              406600.0|100.21541514884487|   30494.317573169246|\n",
      "|                 0.0|             386179.48| 524.4484528663947|                 NULL|\n",
      "| Patio, Lawn  Garden|              367300.0| 48.67271759046874|     5036.91299816765|\n",
      "|Clothing, Shoes  ...|              347000.0|30.336439053023014|     11895.7490901976|\n",
      "|    Sports  Outdoors|              324700.0|19.598154825027233|    8395.274731101337|\n",
      "|Tools  Home Impro...|              279950.0| 49.04132378028058|   11397.545684066887|\n",
      "|Kitchen Utensils ...|              276950.0|25.205659824047398|    7181.539719778425|\n",
      "|Industrial  Scien...|              266750.0| 42.84005941770733|    8453.587284610809|\n",
      "|  Household Cleaning|              244450.0| 66.87248851372921|   2942.9126829789516|\n",
      "|             Bedding|              203450.0| 52.91330171796592|   10366.084234073009|\n",
      "+--------------------+----------------------+------------------+---------------------+\n",
      "only showing top 20 rows\n",
      "\n",
      "+--------------------+-----+----------------------+\n",
      "|        categoryName|price|sum(boughtInLastMonth)|\n",
      "+--------------------+-----+----------------------+\n",
      "|                 0.0| NULL|             386179.48|\n",
      "|              Beauty|14.99|              104200.0|\n",
      "|https://www.amazo...| NULL|               98255.0|\n",
      "|             Grocery|  0.0|               88350.0|\n",
      "|              Beauty|19.99|               86600.0|\n",
      "|              Beauty| 9.99|               76900.0|\n",
      "|              Beauty|  0.0|               76700.0|\n",
      "|              Beauty|11.99|               74200.0|\n",
      "|              Beauty|13.99|               63750.0|\n",
      "|              Beauty|24.99|               61100.0|\n",
      "|              Beauty|12.99|               59700.0|\n",
      "|              Beauty| 7.97|               50300.0|\n",
      "|       Home  Kitchen|19.99|               48450.0|\n",
      "|              Beauty| 8.99|               47200.0|\n",
      "|              Beauty| 7.99|               46750.0|\n",
      "|              Beauty|11.97|               45850.0|\n",
      "|              Beauty|10.99|               45800.0|\n",
      "|              Beauty|17.99|               43000.0|\n",
      "|https://www.amazo...| NULL|               40202.0|\n",
      "|              Beauty| 6.99|               40200.0|\n",
      "+--------------------+-----+----------------------+\n",
      "only showing top 20 rows\n",
      "\n"
     ]
    }
   ],
   "source": [
    "# Group by product category and summarize total sales and average price\n",
    "sales_by_category = df_cleaned.groupBy(\"categoryName\").agg(\n",
    "    {\"boughtInLastMonth\": \"sum\", \"price\": \"avg\", \"popularity_score\": \"avg\"}\n",
    ").orderBy(\"sum(boughtInLastMonth)\", ascending=False)\n",
    "\n",
    "# Show top-performing categories\n",
    "sales_by_category.show()\n",
    "\n",
    "# Sales performance by product category and price\n",
    "sales_by_price_category = df_cleaned.groupBy(\"categoryName\", \"price\").agg(\n",
    "    {\"boughtInLastMonth\": \"sum\"}\n",
    ").orderBy(\"sum(boughtInLastMonth)\", ascending=False)\n",
    "\n",
    "# Show price-based sales trends\n",
    "sales_by_price_category.show()\n"
   ]
  },
  {
   "cell_type": "markdown",
   "metadata": {},
   "source": [
    "4. Trend Analysis\n",
    "We’ll analyze the trends for the best-selling product categories, and how factors like price, reviews, and discounts influence sales.\n"
   ]
  },
  {
   "cell_type": "code",
   "execution_count": 17,
   "metadata": {},
   "outputs": [
    {
     "name": "stdout",
     "output_type": "stream",
     "text": [
      "+--------------------+--------------+\n",
      "|        categoryName|  totalReviews|\n",
      "+--------------------+--------------+\n",
      "| Cast Iron Grill ...|1.462016451E10|\n",
      "| 25708 Random Orb...|   9.0027707E8|\n",
      "|https://www.amazo...|  5.32403107E8|\n",
      "|           466420911|  4.63461614E8|\n",
      "| Backyard BY14-10...|  4.63440109E8|\n",
      "|           463441514|  4.63420509E8|\n",
      "|          Tera Gear\"|  4.63411712E8|\n",
      "|https://www.amazo...|  4.63377017E8|\n",
      "|https://www.amazo...|  4.63251714E8|\n",
      "|         Electronics|   1.0802928E8|\n",
      "+--------------------+--------------+\n",
      "only showing top 10 rows\n",
      "\n"
     ]
    }
   ],
   "source": [
    "# a. Sales Performance by Category\n",
    "\n",
    "# Aggregating total reviews by category as a proxy for sales performance\n",
    "sales_performance = df_cleaned.groupBy(\"categoryName\").agg({\"reviews\": \"sum\"}).withColumnRenamed(\"sum(reviews)\", \"totalReviews\")\n",
    "sales_performance.orderBy(col(\"totalReviews\").desc()).show(10)"
   ]
  },
  {
   "cell_type": "code",
   "execution_count": 18,
   "metadata": {},
   "outputs": [
    {
     "name": "stdout",
     "output_type": "stream",
     "text": [
      "+--------------+--------------+\n",
      "|         price|    avgReviews|\n",
      "+--------------+--------------+\n",
      "|1.462367931E10|1.462016451E10|\n",
      "|  5.32161597E8|          NULL|\n",
      "|  5.32125907E8|      193214.0|\n",
      "|   5.3200904E8|          NULL|\n",
      "|  4.66420909E8|  4.63461614E8|\n",
      "|  4.63441312E8|  4.63440109E8|\n",
      "|  4.63440109E8|  4.63420509E8|\n",
      "|  4.63411911E8|  4.63411712E8|\n",
      "|    3.162243E8|     1614140.0|\n",
      "|      235264.0|      236264.0|\n",
      "+--------------+--------------+\n",
      "only showing top 10 rows\n",
      "\n"
     ]
    }
   ],
   "source": [
    "# b. Price Sensitivity Analysis\n",
    "# Price vs. Reviews Analysis\n",
    "price_sensitivity = df_cleaned.groupBy(\"price\").agg({\"reviews\": \"avg\"}).withColumnRenamed(\"avg(reviews)\", \"avgReviews\")\n",
    "price_sensitivity.orderBy(col(\"price\").desc()).show(10)\n"
   ]
  },
  {
   "cell_type": "code",
   "execution_count": 19,
   "metadata": {},
   "outputs": [
    {
     "name": "stdout",
     "output_type": "stream",
     "text": [
      "+--------------------+---------------+\n",
      "|        categoryName|bestSellerCount|\n",
      "+--------------------+---------------+\n",
      "|         Electronics|            428|\n",
      "|       Home  Kitchen|            407|\n",
      "|    Sports  Outdoors|            345|\n",
      "|Automotive Replac...|            266|\n",
      "|Clothing, Shoes  ...|            260|\n",
      "|              Beauty|            256|\n",
      "| Patio, Lawn  Garden|            230|\n",
      "|        Pet Supplies|            221|\n",
      "|                Baby|            213|\n",
      "|             Grocery|            213|\n",
      "+--------------------+---------------+\n",
      "only showing top 10 rows\n",
      "\n",
      "+----------+--------------------+--------------------+--------------------+--------------------+-----------------+-----+---------+--------------+------------+--------------------+-------------------+----------------+-----------------+--------------+\n",
      "|      asin|               title|              imgUrl|          productURL|               stars|          reviews|price|listPrice|  categoryName|isBestSeller|   boughtInLastMonth|discount_percentage|popularity_score|sales_performance|reviewCategory|\n",
      "+----------+--------------------+--------------------+--------------------+--------------------+-----------------+-----+---------+--------------+------------+--------------------+-------------------+----------------+-----------------+--------------+\n",
      "|B0CK7LH71C|\"Lenovo Legion Pr...| Intel i9-13900HX...| NVIDIA Geforce R...|   16GB DDR5 1TB SSD| Backlit Keyboard| NULL|     NULL| ROB 32GB USB\"|        NULL|https://www.amazo...|               NULL|            NULL|        Low Sales|           Low|\n",
      "|B0CK7L4N8P|\"Lenovo Legion Pr...| Intel i9-13900HX...| NVIDIA Geforce R...|   32GB DDR5 2TB SSD| Backlit Keyboard| NULL|     NULL| ROB 32GB USB\"|        NULL|https://www.amazo...|               NULL|            NULL|        Low Sales|           Low|\n",
      "|B0CK7L48HB|\"Lenovo Legion Pr...| Intel i9-13900HX...| NVIDIA Geforce R...| 16GB DDR5 512GB SSD| Backlit Keyboard| NULL|     NULL| ROB 32GB USB\"|        NULL|https://www.amazo...|               NULL|            NULL|        Low Sales|           Low|\n",
      "|B0CK7KW1GY|\"Lenovo Legion Pr...| Intel i9-13900HX...| NVIDIA Geforce R...|   16GB DDR5 1TB SSD| Backlit Keyboard| NULL|     NULL| ROB 32GB USB\"|        NULL|https://www.amazo...|               NULL|            NULL|        Low Sales|           Low|\n",
      "|B0CK7KRSNB|\"Lenovo Legion Pr...| Intel i9-13900HX...| NVIDIA Geforce R...|   64GB DDR5 2TB SSD| Backlit Keyboard| NULL|     NULL| ROB 32GB USB\"|        NULL|https://www.amazo...|               NULL|            NULL|        Low Sales|           Low|\n",
      "|B0CK7KQX3D|\"Lenovo Legion Pr...| Intel i9-13900HX...| NVIDIA Geforce R...|   32GB DDR5 2TB SSD| Backlit Keyboard| NULL|     NULL| ROB 32GB USB\"|        NULL|https://www.amazo...|               NULL|            NULL|        Low Sales|           Low|\n",
      "|B0CK7KQT4L|\"Lenovo Legion Pr...| Intel i9-13900HX...| NVIDIA Geforce R...|   32GB DDR5 2TB SSD| Backlit Keyboard| NULL|     NULL| ROB 32GB USB\"|        NULL|https://www.amazo...|               NULL|            NULL|        Low Sales|           Low|\n",
      "|B0CK7KHY5F|\"Lenovo Legion Pr...| Intel i9-13900HX...| NVIDIA Geforce R...|   16GB DDR5 1TB SSD| Backlit Keyboard| NULL|     NULL| ROB 32GB USB\"|        NULL|https://www.amazo...|               NULL|            NULL|        Low Sales|           Low|\n",
      "|B0CK7KBQZS|\"Lenovo Legion Pr...| Intel i9-13900HX...| NVIDIA Geforce R...|   64GB DDR5 2TB SSD| Backlit Keyboard| NULL|     NULL| ROB 32GB USB\"|        NULL|https://www.amazo...|               NULL|            NULL|        Low Sales|           Low|\n",
      "|B0CK7JXVX7|\"Lenovo Legion Pr...| Intel i9-13900HX...| NVIDIA Geforce R...|   64GB DDR5 2TB SSD| Backlit Keyboard| NULL|     NULL| ROB 32GB USB\"|        NULL|https://www.amazo...|               NULL|            NULL|        Low Sales|           Low|\n",
      "+----------+--------------------+--------------------+--------------------+--------------------+-----------------+-----+---------+--------------+------------+--------------------+-------------------+----------------+-----------------+--------------+\n",
      "only showing top 10 rows\n",
      "\n",
      "+-------------------+----------------------+\n",
      "|discount_percentage|sum(boughtInLastMonth)|\n",
      "+-------------------+----------------------+\n",
      "|              100.0|                  NULL|\n",
      "|              99.99|                  NULL|\n",
      "|              99.98|                  NULL|\n",
      "|              99.97|                  NULL|\n",
      "|              99.96|                  NULL|\n",
      "|              99.95|                  NULL|\n",
      "|              99.94|                  NULL|\n",
      "|              99.93|                  NULL|\n",
      "|              99.92|                  NULL|\n",
      "|              99.91|                  NULL|\n",
      "|               99.9|                  NULL|\n",
      "|              99.89|                  NULL|\n",
      "|              99.88|                  NULL|\n",
      "|              99.87|                 100.0|\n",
      "|              99.86|                  NULL|\n",
      "|              99.85|                  NULL|\n",
      "|              99.84|                  NULL|\n",
      "|              99.83|                   0.0|\n",
      "|              99.82|                  NULL|\n",
      "|              99.81|                  NULL|\n",
      "+-------------------+----------------------+\n",
      "only showing top 20 rows\n",
      "\n"
     ]
    }
   ],
   "source": [
    "# c. Best Seller by Category\n",
    "# Best seller count by category\n",
    "best_seller = df.filter(df.isBestSeller == True).groupBy(\"categoryName\").count().withColumnRenamed(\"count\", \"bestSellerCount\")\n",
    "best_seller.orderBy(col(\"bestSellerCount\").desc()).show(10)\n",
    "\n",
    "\n",
    "# Identify top-performing products and categories based on the number of units sold in the last month\n",
    "top_products = df_cleaned.orderBy(\"boughtInLastMonth\", ascending=False)\n",
    "top_products.show(10)\n",
    "\n",
    "# Analyzing the impact of discount percentage on sales\n",
    "sales_vs_discounts = df_cleaned.groupBy(\"discount_percentage\").agg(\n",
    "    {\"boughtInLastMonth\": \"sum\"}\n",
    ").orderBy(\"discount_percentage\", ascending=False)\n",
    "\n",
    "sales_vs_discounts.show()\n"
   ]
  },
  {
   "cell_type": "markdown",
   "metadata": {},
   "source": [
    "5. Exporting Data for Power BI\n",
    "Once we have the analysis results, we will export the data for use in Power BI."
   ]
  },
  {
   "cell_type": "code",
   "execution_count": 20,
   "metadata": {},
   "outputs": [],
   "source": [
    "# Export to CSV for Power BI\n",
    "sales_performance.toPandas().to_csv(\"results/sales_performance.csv\", index=False)\n",
    "price_sensitivity.toPandas().to_csv(\"results/price_sensitivity.csv\", index=False)\n",
    "best_seller.toPandas().to_csv(\"results/best_seller.csv\", index=False)"
   ]
  },
  {
   "cell_type": "markdown",
   "metadata": {},
   "source": [
    "6. Visualizing in Power BI\n",
    "Now load these CSV files into Power BI and create visuals like:\n",
    "\n",
    "Sales Performance: Bar chart of totalReviews per categoryName.\n",
    "Price Sensitivity: Line chart of avgReviews against price.\n",
    "Best Sellers: Pie chart or bar chart showing the distribution of best sellers by categoryName."
   ]
  },
  {
   "cell_type": "code",
   "execution_count": 1,
   "metadata": {},
   "outputs": [],
   "source": [
    "from pyspark.sql.functions import col, expr\n",
    "import pandas as pd\n",
    "import matplotlib.pyplot as plt"
   ]
  },
  {
   "cell_type": "code",
   "execution_count": null,
   "metadata": {},
   "outputs": [],
   "source": [
    "df4NetProfit = df.dropna(subset=[\"asin\", \"title\", \"categoryName\", \"stars\", \"reviews\", \"price\", \"listPrice\", \"categoryName\", \"isBestSeller\", \"boughtInLastMonth\"])\n",
    "\n",
    "df_4NetProfit = df_4NetProfit.withColumn(\"price\", col(\"price\").cast(\"double\")) \\\n",
    "       .withColumn(\"listPrice\", col(\"listPrice\").cast(\"double\")) \\\n",
    "       .withColumn(\"boughtInLastMonth\", col(\"boughtInLastMonth\").cast(\"int\"))\n",
    "# Handle null values\n",
    "df_4NetProfit = df_4NetProfit.na.fill({\"boughtInLastMonth\": 0})\n",
    "\n",
    "\n",
    "\n"
   ]
  }
 ],
 "metadata": {
  "kernelspec": {
   "display_name": ".venv",
   "language": "python",
   "name": "python3"
  },
  "language_info": {
   "codemirror_mode": {
    "name": "ipython",
    "version": 3
   },
   "file_extension": ".py",
   "mimetype": "text/x-python",
   "name": "python",
   "nbconvert_exporter": "python",
   "pygments_lexer": "ipython3",
   "version": "3.10.11"
  }
 },
 "nbformat": 4,
 "nbformat_minor": 2
}
