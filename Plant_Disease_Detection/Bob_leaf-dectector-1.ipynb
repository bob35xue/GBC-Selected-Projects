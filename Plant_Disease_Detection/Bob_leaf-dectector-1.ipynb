{
 "cells": [
  {
   "cell_type": "markdown",
   "id": "ff8c54c5",
   "metadata": {
    "papermill": {
     "duration": 0.006236,
     "end_time": "2024-11-04T23:51:52.145329",
     "exception": false,
     "start_time": "2024-11-04T23:51:52.139093",
     "status": "completed"
    },
    "tags": []
   },
   "source": [
    "# Importing Libraries"
   ]
  },
  {
   "cell_type": "code",
   "execution_count": 1,
   "id": "09db5f2a",
   "metadata": {
    "_cell_guid": "b1076dfc-b9ad-4769-8c92-a6c4dae69d19",
    "_uuid": "8f2839f25d086af736a60e9eeb907d3b93b6e0e5",
    "execution": {
     "iopub.execute_input": "2024-11-04T23:51:52.158742Z",
     "iopub.status.busy": "2024-11-04T23:51:52.158157Z",
     "iopub.status.idle": "2024-11-04T23:52:06.422558Z",
     "shell.execute_reply": "2024-11-04T23:52:06.421715Z"
    },
    "papermill": {
     "duration": 14.273536,
     "end_time": "2024-11-04T23:52:06.424855",
     "exception": false,
     "start_time": "2024-11-04T23:51:52.151319",
     "status": "completed"
    },
    "tags": []
   },
   "outputs": [
    {
     "name": "stderr",
     "output_type": "stream",
     "text": [
      "2024-11-12 13:48:51.959705: E external/local_xla/xla/stream_executor/cuda/cuda_fft.cc:477] Unable to register cuFFT factory: Attempting to register factory for plugin cuFFT when one has already been registered\n",
      "WARNING: All log messages before absl::InitializeLog() is called are written to STDERR\n",
      "E0000 00:00:1731437331.974067  129949 cuda_dnn.cc:8310] Unable to register cuDNN factory: Attempting to register factory for plugin cuDNN when one has already been registered\n",
      "E0000 00:00:1731437331.978335  129949 cuda_blas.cc:1418] Unable to register cuBLAS factory: Attempting to register factory for plugin cuBLAS when one has already been registered\n",
      "2024-11-12 13:48:51.992612: I tensorflow/core/platform/cpu_feature_guard.cc:210] This TensorFlow binary is optimized to use available CPU instructions in performance-critical operations.\n",
      "To enable the following instructions: AVX2 FMA, in other operations, rebuild TensorFlow with the appropriate compiler flags.\n"
     ]
    },
    {
     "data": {
      "text/plain": [
       "'\\nfrom tensorflow.python.keras.layers import Flatten, Dense, Input, GlobalAveragePooling2D,     GlobalMaxPooling2D, Activation, Conv2D, MaxPooling2D, BatchNormalization,     AveragePooling2D, Reshape, Permute, multiply\\nfrom keras_applications.imagenet_utils import _obtain_input_shape\\nfrom tensorflow.python.keras.utils.data_utils import get_file\\nfrom tensorflow.python.keras import backend as K\\nfrom keras_vggface import utils\\nfrom tensorflow.python.keras.utils.layer_utils import get_source_inputs\\nimport warnings\\nfrom tensorflow.python.keras.models import Model\\nfrom tensorflow.python.keras import layers\\n'"
      ]
     },
     "execution_count": 1,
     "metadata": {},
     "output_type": "execute_result"
    }
   ],
   "source": [
    "import numpy as np\n",
    "import pandas as pd\n",
    "import matplotlib.pyplot as plt\n",
    "import seaborn as sns\n",
    "import tensorflow as tf\n",
    "from tensorflow.keras.models import Sequential\n",
    "from tensorflow.keras.applications.inception_v3 import InceptionV3, preprocess_input\n",
    "from tensorflow.keras.layers import Conv2D, MaxPooling2D, Flatten, Dense, Dropout, BatchNormalization\n",
    "from tensorflow.keras.preprocessing.image import ImageDataGenerator\n",
    "from tensorflow.keras.callbacks import EarlyStopping\n",
    "from tensorflow.keras.layers import GlobalAveragePooling2D, Flatten, Dense\n",
    "\n",
    "from sklearn.model_selection import train_test_split\n",
    "from sklearn.metrics import accuracy_score, classification_report, confusion_matrix\n",
    "\n",
    "import cv2\n",
    "import os\n",
    "\n",
    "'''\n",
    "import tensorflow as tf\n",
    "from tensorflow.keras.applications.inception_v3 import InceptionV3, preprocess_input\n",
    "from tensorflow.keras.preprocessing.image import ImageDataGenerator\n",
    "from tensorflow.keras.models import Sequential\n",
    "#from tensorflow.keras.layers import Dense, GlobalAveragePooLlng2D\n",
    "from tensorflow.python.keras.layers import Dense\n",
    "#from tensorflow.keras.layers import GlobalAveragePooLlng2D\n",
    "from tensorflow.keras.callbacks import EarlyStopping\n",
    "'''\n",
    "\n",
    "'''\n",
    "from tensorflow.python.keras.layers import Flatten, Dense, Input, GlobalAveragePooling2D, \\\n",
    "    GlobalMaxPooling2D, Activation, Conv2D, MaxPooling2D, BatchNormalization, \\\n",
    "    AveragePooling2D, Reshape, Permute, multiply\n",
    "from keras_applications.imagenet_utils import _obtain_input_shape\n",
    "from tensorflow.python.keras.utils.data_utils import get_file\n",
    "from tensorflow.python.keras import backend as K\n",
    "from keras_vggface import utils\n",
    "from tensorflow.python.keras.utils.layer_utils import get_source_inputs\n",
    "import warnings\n",
    "from tensorflow.python.keras.models import Model\n",
    "from tensorflow.python.keras import layers\n",
    "'''"
   ]
  },
  {
   "cell_type": "markdown",
   "id": "8a060983",
   "metadata": {
    "papermill": {
     "duration": 0.005447,
     "end_time": "2024-11-04T23:52:06.436246",
     "exception": false,
     "start_time": "2024-11-04T23:52:06.430799",
     "status": "completed"
    },
    "tags": []
   },
   "source": [
    "# Load & Read Data"
   ]
  },
  {
   "cell_type": "code",
   "execution_count": 2,
   "id": "b2bb31c2",
   "metadata": {
    "execution": {
     "iopub.execute_input": "2024-11-04T23:52:06.450022Z",
     "iopub.status.busy": "2024-11-04T23:52:06.449466Z",
     "iopub.status.idle": "2024-11-04T23:52:06.480949Z",
     "shell.execute_reply": "2024-11-04T23:52:06.480080Z"
    },
    "papermill": {
     "duration": 0.040085,
     "end_time": "2024-11-04T23:52:06.483018",
     "exception": false,
     "start_time": "2024-11-04T23:52:06.442933",
     "status": "completed"
    },
    "tags": []
   },
   "outputs": [
    {
     "data": {
      "text/html": [
       "<div>\n",
       "<style scoped>\n",
       "    .dataframe tbody tr th:only-of-type {\n",
       "        vertical-align: middle;\n",
       "    }\n",
       "\n",
       "    .dataframe tbody tr th {\n",
       "        vertical-align: top;\n",
       "    }\n",
       "\n",
       "    .dataframe thead th {\n",
       "        text-align: right;\n",
       "    }\n",
       "</style>\n",
       "<table border=\"1\" class=\"dataframe\">\n",
       "  <thead>\n",
       "    <tr style=\"text-align: right;\">\n",
       "      <th></th>\n",
       "      <th>Unnamed: 0</th>\n",
       "      <th>Images</th>\n",
       "      <th>Labels</th>\n",
       "    </tr>\n",
       "  </thead>\n",
       "  <tbody>\n",
       "    <tr>\n",
       "      <th>0</th>\n",
       "      <td>0</td>\n",
       "      <td>0003_0074.JPG</td>\n",
       "      <td>0</td>\n",
       "    </tr>\n",
       "    <tr>\n",
       "      <th>1</th>\n",
       "      <td>1</td>\n",
       "      <td>0004_0182.JPG</td>\n",
       "      <td>0</td>\n",
       "    </tr>\n",
       "    <tr>\n",
       "      <th>2</th>\n",
       "      <td>2</td>\n",
       "      <td>0018_0063.JPG</td>\n",
       "      <td>1</td>\n",
       "    </tr>\n",
       "    <tr>\n",
       "      <th>3</th>\n",
       "      <td>3</td>\n",
       "      <td>0009_0284.JPG</td>\n",
       "      <td>0</td>\n",
       "    </tr>\n",
       "    <tr>\n",
       "      <th>4</th>\n",
       "      <td>4</td>\n",
       "      <td>0020_0071.JPG</td>\n",
       "      <td>1</td>\n",
       "    </tr>\n",
       "  </tbody>\n",
       "</table>\n",
       "</div>"
      ],
      "text/plain": [
       "   Unnamed: 0         Images  Labels\n",
       "0           0  0003_0074.JPG       0\n",
       "1           1  0004_0182.JPG       0\n",
       "2           2  0018_0063.JPG       1\n",
       "3           3  0009_0284.JPG       0\n",
       "4           4  0020_0071.JPG       1"
      ]
     },
     "execution_count": 2,
     "metadata": {},
     "output_type": "execute_result"
    }
   ],
   "source": [
    "# Define paths\n",
    "# image_dir = '/kaggle/input/computer-vision-xm/images/kaggle/working/Reorganized_Data/images/'\n",
    "# labels_csv = '/kaggle/input/computer-vision-xm/train.csv'\n",
    "image_dir = './data/computer-vision-xm/Reorganized_Data/images/'\n",
    "labels_csv = './data/computer-vision-xm/train.csv'\n",
    "# Load the CSV file with labels\n",
    "labels_df = pd.read_csv(labels_csv)\n",
    "\n",
    "# Display the first few rows\n",
    "labels_df.head()"
   ]
  },
  {
   "cell_type": "markdown",
   "id": "f4e9b3a1",
   "metadata": {
    "papermill": {
     "duration": 0.005695,
     "end_time": "2024-11-04T23:52:06.494630",
     "exception": false,
     "start_time": "2024-11-04T23:52:06.488935",
     "status": "completed"
    },
    "tags": []
   },
   "source": [
    "# Preprocessing"
   ]
  },
  {
   "cell_type": "code",
   "execution_count": 3,
   "id": "294d61c8",
   "metadata": {
    "execution": {
     "iopub.execute_input": "2024-11-04T23:52:06.507456Z",
     "iopub.status.busy": "2024-11-04T23:52:06.507158Z",
     "iopub.status.idle": "2024-11-05T00:01:10.081692Z",
     "shell.execute_reply": "2024-11-05T00:01:10.080866Z"
    },
    "papermill": {
     "duration": 543.583861,
     "end_time": "2024-11-05T00:01:10.084277",
     "exception": false,
     "start_time": "2024-11-04T23:52:06.500416",
     "status": "completed"
    },
    "tags": []
   },
   "outputs": [],
   "source": [
    "# Image size and batch size\n",
    "IMG_SIZE = 128 #128, 224 \n",
    "BATCH_SIZE = 32\n",
    "\n",
    "# Load and resize images\n",
    "def load_and_preprocess_image(image_path):\n",
    "    image = cv2.imread(image_path)\n",
    "    image = cv2.resize(image, (IMG_SIZE, IMG_SIZE))\n",
    "    image = image / 255.0  # Normalize\n",
    "    return image\n",
    "\n",
    "# Apply preprocessing to all images\n",
    "images = []\n",
    "labels = []\n",
    "\n",
    "for i, row in labels_df.iterrows():\n",
    "    image_path = os.path.join(image_dir, row['Images'])\n",
    "    images.append(load_and_preprocess_image(image_path))\n",
    "    labels.append(row['Labels'])\n",
    "\n",
    "# Convert lists to numpy arrays\n",
    "X = np.array(images)\n",
    "y = np.array(labels)"
   ]
  },
  {
   "cell_type": "markdown",
   "id": "8b91d905",
   "metadata": {
    "papermill": {
     "duration": 0.005701,
     "end_time": "2024-11-05T00:01:10.096409",
     "exception": false,
     "start_time": "2024-11-05T00:01:10.090708",
     "status": "completed"
    },
    "tags": []
   },
   "source": [
    "# Split The Data"
   ]
  },
  {
   "cell_type": "code",
   "execution_count": 4,
   "id": "978421a9",
   "metadata": {
    "execution": {
     "iopub.execute_input": "2024-11-05T00:01:10.109273Z",
     "iopub.status.busy": "2024-11-05T00:01:10.108956Z",
     "iopub.status.idle": "2024-11-05T00:01:10.487341Z",
     "shell.execute_reply": "2024-11-05T00:01:10.486394Z"
    },
    "papermill": {
     "duration": 0.387525,
     "end_time": "2024-11-05T00:01:10.489622",
     "exception": false,
     "start_time": "2024-11-05T00:01:10.102097",
     "status": "completed"
    },
    "tags": []
   },
   "outputs": [
    {
     "name": "stdout",
     "output_type": "stream",
     "text": [
      "Training data: (2710, 128, 128, 3), Validation data: (678, 128, 128, 3)\n"
     ]
    }
   ],
   "source": [
    "X_train, X_val, y_train, y_val = train_test_split(X, y, test_size=0.2, random_state=42)\n",
    "\n",
    "print(f\"Training data: {X_train.shape}, Validation data: {X_val.shape}\")"
   ]
  },
  {
   "cell_type": "markdown",
   "id": "be8bfdc6",
   "metadata": {
    "papermill": {
     "duration": 0.005824,
     "end_time": "2024-11-05T00:01:10.501504",
     "exception": false,
     "start_time": "2024-11-05T00:01:10.495680",
     "status": "completed"
    },
    "tags": []
   },
   "source": [
    "# Data Augmentation"
   ]
  },
  {
   "cell_type": "code",
   "execution_count": 5,
   "id": "d0fe3084",
   "metadata": {
    "execution": {
     "iopub.execute_input": "2024-11-05T00:01:10.515153Z",
     "iopub.status.busy": "2024-11-05T00:01:10.514310Z",
     "iopub.status.idle": "2024-11-05T00:01:10.768048Z",
     "shell.execute_reply": "2024-11-05T00:01:10.767026Z"
    },
    "papermill": {
     "duration": 0.262913,
     "end_time": "2024-11-05T00:01:10.770457",
     "exception": false,
     "start_time": "2024-11-05T00:01:10.507544",
     "status": "completed"
    },
    "tags": []
   },
   "outputs": [
    {
     "data": {
      "text/plain": [
       "\"\\ntrain_datagen = ImageDataGenerator(rescale=1./255, shear_range=0.2, zoom_range=0.2, horizontal_flip=True)\\nval_datagen = ImageDataGenerator(rescale=1./255)\\n\\ntrain_generator = train_datagen.flow_from_directory(\\n        'path/to/train/data',\\n        target_size=(224, 224))\\n\\nval_generator = val_datagen.flow_from_directory(\\n        'path/to/val/data',\\n        target_size=(224, 224))\\n\""
      ]
     },
     "execution_count": 5,
     "metadata": {},
     "output_type": "execute_result"
    }
   ],
   "source": [
    "# Image data generator for augmentation\n",
    "train_datagen = ImageDataGenerator(\n",
    "    rotation_range=20,\n",
    "    width_shift_range=0.2,\n",
    "    height_shift_range=0.2,\n",
    "    shear_range=0.2,\n",
    "    zoom_range=0.2,\n",
    "    horizontal_flip=True\n",
    ")\n",
    "\n",
    "val_datagen = ImageDataGenerator()\n",
    "\n",
    "# Apply to training and validation data\n",
    "train_generator = train_datagen.flow(X_train, y_train, batch_size=BATCH_SIZE)\n",
    "val_generator = val_datagen.flow(X_val, y_val, batch_size=BATCH_SIZE)\n",
    "\n",
    "# train_generator = train_datagen.flow(X_train, y_train, batch_size=BATCH_SIZE, target_size=(224, 224))\n",
    "# val_generator = val_datagen.flow(X_val, y_val, batch_size=BATCH_SIZE, target_size=(224, 224))\n",
    "\n",
    "# Create data generators for training and validation\n",
    "'''\n",
    "train_datagen = ImageDataGenerator(rescale=1./255, shear_range=0.2, zoom_range=0.2, horizontal_flip=True)\n",
    "val_datagen = ImageDataGenerator(rescale=1./255)\n",
    "\n",
    "train_generator = train_datagen.flow_from_directory(\n",
    "        'path/to/train/data',\n",
    "        target_size=(224, 224))\n",
    "\n",
    "val_generator = val_datagen.flow_from_directory(\n",
    "        'path/to/val/data',\n",
    "        target_size=(224, 224))\n",
    "'''"
   ]
  },
  {
   "cell_type": "markdown",
   "id": "aa54ab00",
   "metadata": {},
   "source": [
    "# Load the InceptionV3 model"
   ]
  },
  {
   "cell_type": "code",
   "execution_count": 6,
   "id": "f8c7ee87",
   "metadata": {},
   "outputs": [],
   "source": [
    "class CustomGlobalAveragePooling2D(tf.keras.layers.Layer):\n",
    "    def __init__(self, **kwargs):\n",
    "        super(CustomGlobalAveragePooling2D, self).__init__(**kwargs)\n",
    "\n",
    "    def call(self, inputs):\n",
    "        return tf.keras.backend.mean(inputs, axis=[1, 2])\n"
   ]
  },
  {
   "cell_type": "code",
   "execution_count": 7,
   "id": "b59bfdc0",
   "metadata": {},
   "outputs": [
    {
     "name": "stderr",
     "output_type": "stream",
     "text": [
      "I0000 00:00:1731437627.976371  129949 gpu_device.cc:2022] Created device /job:localhost/replica:0/task:0/device:GPU:0 with 6765 MB memory:  -> device: 0, name: NVIDIA GeForce RTX 2070, pci bus id: 0000:01:00.0, compute capability: 7.5\n"
     ]
    }
   ],
   "source": [
    "# Load the InceptionV3 model\n",
    "model = InceptionV3(weights='imagenet', include_top=False, input_shape=(IMG_SIZE,IMG_SIZE, 3))\n",
    "\n",
    "# Freeze the base model layers\n",
    "for layer in model.layers:\n",
    "    layer.trainable = False\n",
    "\n",
    "# Add custom layers\n",
    "'''\n",
    "x = model.output\n",
    "x = MaxPooling2D()(x)\n",
    "x = Dense(512, activation='relu')(x)\n",
    "x = Dense(1, activation='sigmoid')(x) # 2 classes: healthy and diseased;  1, activation='sigmoid' ;2 ,activation='softmax'\n",
    "\n",
    "# Create the final model\n",
    "# model = tf.keras.Model(inputs=model.input, outputs=x)\n",
    "x = model.output\n",
    "x = Flatten()(x)  # Flatten the output to a 1D array\n",
    "\n",
    "x = model.output\n",
    "x = Flatten()(x)\n",
    "x = Dense(512, activation='relu')(x)\n",
    "x = Dense(1, activation='sigmoid')(x) # 2 classes: healthy and diseased\n",
    "'''\n",
    "\n",
    "x = model.output\n",
    "x = CustomGlobalAveragePooling2D()(x)  # Global Average Pooling\n",
    "x = Flatten()(x)\n",
    "x = Dense(1, activation='sigmoid')(x) # 2 classes: healthy and diseased\n",
    "\n",
    "model = tf.keras.Model(inputs=model.input, outputs=x)\n",
    "\n",
    "# Compile the model\n",
    "model.compile(optimizer='adam',\n",
    "              loss='binary_crossentropy', #categorical_crossentropy binary_crossentropy\n",
    "              metrics=['accuracy'])\n",
    "\n",
    "# Add early stopping to monitor validation loss\n",
    "early_stopping = EarlyStopping(monitor='val_loss', patience=5, restore_best_weights=True)\n",
    "\n",
    "# Model summary\n",
    "# model.summary()"
   ]
  },
  {
   "cell_type": "markdown",
   "id": "b1d20ef8",
   "metadata": {
    "papermill": {
     "duration": 0.006779,
     "end_time": "2024-11-05T00:01:11.775201",
     "exception": false,
     "start_time": "2024-11-05T00:01:11.768422",
     "status": "completed"
    },
    "tags": []
   },
   "source": [
    "# Training The Model"
   ]
  },
  {
   "cell_type": "code",
   "execution_count": 8,
   "id": "b2b7d3e9",
   "metadata": {
    "execution": {
     "iopub.execute_input": "2024-11-05T00:01:11.790147Z",
     "iopub.status.busy": "2024-11-05T00:01:11.789847Z",
     "iopub.status.idle": "2024-11-05T00:04:08.611385Z",
     "shell.execute_reply": "2024-11-05T00:04:08.610371Z"
    },
    "papermill": {
     "duration": 176.831799,
     "end_time": "2024-11-05T00:04:08.613817",
     "exception": false,
     "start_time": "2024-11-05T00:01:11.782018",
     "status": "completed"
    },
    "tags": []
   },
   "outputs": [
    {
     "name": "stdout",
     "output_type": "stream",
     "text": [
      "Epoch 1/50\n"
     ]
    },
    {
     "name": "stderr",
     "output_type": "stream",
     "text": [
      "/home/bob35/GBC/VScode4MD2/.venv/lib/python3.11/site-packages/keras/src/trainers/data_adapters/py_dataset_adapter.py:121: UserWarning: Your `PyDataset` class should call `super().__init__(**kwargs)` in its constructor. `**kwargs` can include `workers`, `use_multiprocessing`, `max_queue_size`. Do not pass these arguments to `fit()`, as they will be ignored.\n",
      "  self._warn_if_super_not_called()\n",
      "WARNING: All log messages before absl::InitializeLog() is called are written to STDERR\n",
      "I0000 00:00:1731437634.519641  131828 service.cc:148] XLA service 0x741a84001e50 initialized for platform CUDA (this does not guarantee that XLA will be used). Devices:\n",
      "I0000 00:00:1731437634.519655  131828 service.cc:156]   StreamExecutor device (0): NVIDIA GeForce RTX 2070, Compute Capability 7.5\n",
      "2024-11-12 13:53:54.661262: I tensorflow/compiler/mlir/tensorflow/utils/dump_mlir_util.cc:268] disabling MLIR crash reproducer, set env var `MLIR_CRASH_REPRODUCER_DIRECTORY` to enable.\n",
      "I0000 00:00:1731437635.758728  131828 cuda_dnn.cc:529] Loaded cuDNN version 90300\n"
     ]
    },
    {
     "name": "stdout",
     "output_type": "stream",
     "text": [
      "\u001b[1m 4/84\u001b[0m \u001b[37m━━━━━━━━━━━━━━━━━━━━\u001b[0m \u001b[1m4s\u001b[0m 59ms/step - accuracy: 0.4121 - loss: 1.1171"
     ]
    },
    {
     "name": "stderr",
     "output_type": "stream",
     "text": [
      "I0000 00:00:1731437638.990201  131828 device_compiler.h:188] Compiled cluster using XLA!  This line is logged at most once for the lifetime of the process.\n"
     ]
    },
    {
     "name": "stdout",
     "output_type": "stream",
     "text": [
      "\u001b[1m84/84\u001b[0m \u001b[32m━━━━━━━━━━━━━━━━━━━━\u001b[0m\u001b[37m\u001b[0m \u001b[1m24s\u001b[0m 176ms/step - accuracy: 0.5829 - loss: 0.8096 - val_accuracy: 0.6949 - val_loss: 0.6555\n",
      "Epoch 2/50\n",
      "\u001b[1m 1/84\u001b[0m \u001b[37m━━━━━━━━━━━━━━━━━━━━\u001b[0m \u001b[1m1s\u001b[0m 23ms/step - accuracy: 0.7188 - loss: 0.8240"
     ]
    },
    {
     "name": "stderr",
     "output_type": "stream",
     "text": [
      "2024-11-12 13:54:13.613600: I tensorflow/core/framework/local_rendezvous.cc:405] Local rendezvous is aborting with status: OUT_OF_RANGE: End of sequence\n",
      "\t [[{{node IteratorGetNext}}]]\n",
      "2024-11-12 13:54:13.613800: I tensorflow/core/framework/local_rendezvous.cc:405] Local rendezvous is aborting with status: OUT_OF_RANGE: End of sequence\n",
      "\t [[{{node IteratorGetNext}}]]\n",
      "\t [[IteratorGetNext/_2]]\n",
      "/usr/local/lib/python3.11/lib/python3.11/contextlib.py:158: UserWarning: Your input ran out of data; interrupting training. Make sure that your dataset or generator can generate at least `steps_per_epoch * epochs` batches. You may need to use the `.repeat()` function when building your dataset.\n",
      "  self.gen.throw(typ, value, traceback)\n"
     ]
    },
    {
     "name": "stdout",
     "output_type": "stream",
     "text": [
      "\u001b[1m84/84\u001b[0m \u001b[32m━━━━━━━━━━━━━━━━━━━━\u001b[0m\u001b[37m\u001b[0m \u001b[1m3s\u001b[0m 39ms/step - accuracy: 0.7188 - loss: 0.8240 - val_accuracy: 0.8333 - val_loss: 0.3220\n",
      "Epoch 3/50\n",
      "\u001b[1m 1/84\u001b[0m \u001b[37m━━━━━━━━━━━━━━━━━━━━\u001b[0m \u001b[1m8s\u001b[0m 103ms/step - accuracy: 0.7500 - loss: 0.4703"
     ]
    },
    {
     "name": "stderr",
     "output_type": "stream",
     "text": [
      "2024-11-12 13:54:16.757972: I tensorflow/core/framework/local_rendezvous.cc:405] Local rendezvous is aborting with status: OUT_OF_RANGE: End of sequence\n",
      "\t [[{{node IteratorGetNext}}]]\n",
      "\t [[IteratorGetNext/_2]]\n"
     ]
    },
    {
     "name": "stdout",
     "output_type": "stream",
     "text": [
      "\u001b[1m84/84\u001b[0m \u001b[32m━━━━━━━━━━━━━━━━━━━━\u001b[0m\u001b[37m\u001b[0m \u001b[1m7s\u001b[0m 82ms/step - accuracy: 0.7387 - loss: 0.5142 - val_accuracy: 0.7485 - val_loss: 0.5134\n",
      "Epoch 4/50\n",
      "\u001b[1m84/84\u001b[0m \u001b[32m━━━━━━━━━━━━━━━━━━━━\u001b[0m\u001b[37m\u001b[0m \u001b[1m0s\u001b[0m 138us/step - accuracy: 0.6875 - loss: 0.5653 - val_accuracy: 0.5000 - val_loss: 0.7450\n",
      "Epoch 5/50\n",
      "\u001b[1m 2/84\u001b[0m \u001b[37m━━━━━━━━━━━━━━━━━━━━\u001b[0m \u001b[1m6s\u001b[0m 77ms/step - accuracy: 0.7656 - loss: 0.4930 "
     ]
    },
    {
     "name": "stderr",
     "output_type": "stream",
     "text": [
      "2024-11-12 13:54:23.801245: I tensorflow/core/framework/local_rendezvous.cc:405] Local rendezvous is aborting with status: OUT_OF_RANGE: End of sequence\n",
      "\t [[{{node IteratorGetNext}}]]\n",
      "\t [[IteratorGetNext/_2]]\n"
     ]
    },
    {
     "name": "stdout",
     "output_type": "stream",
     "text": [
      "\u001b[1m84/84\u001b[0m \u001b[32m━━━━━━━━━━━━━━━━━━━━\u001b[0m\u001b[37m\u001b[0m \u001b[1m7s\u001b[0m 80ms/step - accuracy: 0.7550 - loss: 0.5070 - val_accuracy: 0.7515 - val_loss: 0.5166\n",
      "Epoch 6/50\n",
      "\u001b[1m84/84\u001b[0m \u001b[32m━━━━━━━━━━━━━━━━━━━━\u001b[0m\u001b[37m\u001b[0m \u001b[1m0s\u001b[0m 1ms/step - accuracy: 0.7188 - loss: 0.4140 - val_accuracy: 1.0000 - val_loss: 0.2329\n",
      "Epoch 7/50\n",
      "\u001b[1m84/84\u001b[0m \u001b[32m━━━━━━━━━━━━━━━━━━━━\u001b[0m\u001b[37m\u001b[0m \u001b[1m7s\u001b[0m 82ms/step - accuracy: 0.7621 - loss: 0.4883 - val_accuracy: 0.7783 - val_loss: 0.4851\n",
      "Epoch 8/50\n",
      "\u001b[1m84/84\u001b[0m \u001b[32m━━━━━━━━━━━━━━━━━━━━\u001b[0m\u001b[37m\u001b[0m \u001b[1m0s\u001b[0m 144us/step - accuracy: 0.8438 - loss: 0.3364 - val_accuracy: 0.8333 - val_loss: 0.5075\n",
      "Epoch 9/50\n",
      "\u001b[1m 2/84\u001b[0m \u001b[37m━━━━━━━━━━━━━━━━━━━━\u001b[0m \u001b[1m6s\u001b[0m 80ms/step - accuracy: 0.7344 - loss: 0.4816 "
     ]
    },
    {
     "name": "stderr",
     "output_type": "stream",
     "text": [
      "2024-11-12 13:54:37.580367: I tensorflow/core/framework/local_rendezvous.cc:405] Local rendezvous is aborting with status: OUT_OF_RANGE: End of sequence\n",
      "\t [[{{node IteratorGetNext}}]]\n",
      "\t [[IteratorGetNext/_2]]\n"
     ]
    },
    {
     "name": "stdout",
     "output_type": "stream",
     "text": [
      "\u001b[1m84/84\u001b[0m \u001b[32m━━━━━━━━━━━━━━━━━━━━\u001b[0m\u001b[37m\u001b[0m \u001b[1m7s\u001b[0m 83ms/step - accuracy: 0.7711 - loss: 0.4566 - val_accuracy: 0.7723 - val_loss: 0.4754\n",
      "Epoch 10/50\n",
      "\u001b[1m84/84\u001b[0m \u001b[32m━━━━━━━━━━━━━━━━━━━━\u001b[0m\u001b[37m\u001b[0m \u001b[1m0s\u001b[0m 127us/step - accuracy: 0.7812 - loss: 0.4230 - val_accuracy: 0.6667 - val_loss: 0.5339\n",
      "Epoch 11/50\n",
      "\u001b[1m84/84\u001b[0m \u001b[32m━━━━━━━━━━━━━━━━━━━━\u001b[0m\u001b[37m\u001b[0m \u001b[1m7s\u001b[0m 82ms/step - accuracy: 0.7822 - loss: 0.4636 - val_accuracy: 0.7872 - val_loss: 0.4466\n"
     ]
    }
   ],
   "source": [
    "\n",
    "# Train the model\n",
    "steps_per_epoch = len(X_train) // BATCH_SIZE\n",
    "validation_steps = len(X_val) // BATCH_SIZE\n",
    "\n",
    "history = model.fit(\n",
    "        train_generator,\n",
    "        steps_per_epoch=steps_per_epoch,\n",
    "        validation_data=val_generator,\n",
    "        validation_steps=validation_steps,\n",
    "        epochs=50, # High number of epochs to allow early stopping to decide when to stop\n",
    "        callbacks=[early_stopping]) \n",
    "\n",
    "  # Save model ./models/saved_leaf_category_model.keras\n",
    "model.save('./models/saved_leaf_disease.keras')      \n"
   ]
  },
  {
   "cell_type": "markdown",
   "id": "ecdb767d",
   "metadata": {
    "papermill": {
     "duration": 0.110621,
     "end_time": "2024-11-05T00:04:08.847276",
     "exception": false,
     "start_time": "2024-11-05T00:04:08.736655",
     "status": "completed"
    },
    "tags": []
   },
   "source": [
    "# Elbow Epoch Graph"
   ]
  },
  {
   "cell_type": "code",
   "execution_count": 9,
   "id": "7a55eb95",
   "metadata": {
    "execution": {
     "iopub.execute_input": "2024-11-05T00:04:09.067997Z",
     "iopub.status.busy": "2024-11-05T00:04:09.067589Z",
     "iopub.status.idle": "2024-11-05T00:04:09.353999Z",
     "shell.execute_reply": "2024-11-05T00:04:09.353083Z"
    },
    "papermill": {
     "duration": 0.399106,
     "end_time": "2024-11-05T00:04:09.356164",
     "exception": false,
     "start_time": "2024-11-05T00:04:08.957058",
     "status": "completed"
    },
    "tags": []
   },
   "outputs": [
    {
     "data": {
      "image/png": "[encoded data removed]",
      "text/plain": [
       "<Figure size 640x480 with 1 Axes>"
      ]
     },
     "metadata": {},
     "output_type": "display_data"
    }
   ],
   "source": [
    "# Plot training & validation accuracy and loss over epochs\n",
    "plt.plot(history.history['loss'], label='Training Loss')\n",
    "plt.plot(history.history['val_loss'], label='Validation Loss')\n",
    "plt.xlabel('Epochs')\n",
    "plt.ylabel('Loss')\n",
    "plt.legend()\n",
    "plt.show()\n"
   ]
  },
  {
   "cell_type": "markdown",
   "id": "af9d2acf",
   "metadata": {
    "papermill": {
     "duration": 0.111159,
     "end_time": "2024-11-05T00:04:09.578782",
     "exception": false,
     "start_time": "2024-11-05T00:04:09.467623",
     "status": "completed"
    },
    "tags": []
   },
   "source": [
    "# Evaluating The Model"
   ]
  },
  {
   "cell_type": "code",
   "execution_count": 10,
   "id": "f088950e",
   "metadata": {
    "execution": {
     "iopub.execute_input": "2024-11-05T00:04:09.833813Z",
     "iopub.status.busy": "2024-11-05T00:04:09.833121Z",
     "iopub.status.idle": "2024-11-05T00:04:10.988217Z",
     "shell.execute_reply": "2024-11-05T00:04:10.987245Z"
    },
    "papermill": {
     "duration": 1.303322,
     "end_time": "2024-11-05T00:04:10.990311",
     "exception": false,
     "start_time": "2024-11-05T00:04:09.686989",
     "status": "completed"
    },
    "tags": []
   },
   "outputs": [
    {
     "name": "stdout",
     "output_type": "stream",
     "text": [
      "\u001b[1m22/22\u001b[0m \u001b[32m━━━━━━━━━━━━━━━━━━━━\u001b[0m\u001b[37m\u001b[0m \u001b[1m7s\u001b[0m 183ms/step\n",
      "Accuracy: 0.7595870206489675\n",
      "Classification Report:\n",
      "              precision    recall  f1-score   support\n",
      "\n",
      "           0       0.80      0.70      0.75       348\n",
      "           1       0.72      0.82      0.77       330\n",
      "\n",
      "    accuracy                           0.76       678\n",
      "   macro avg       0.76      0.76      0.76       678\n",
      "weighted avg       0.76      0.76      0.76       678\n",
      "\n"
     ]
    }
   ],
   "source": [
    "# Predictions on validation data\n",
    "y_pred = model.predict(X_val)\n",
    "y_pred_classes = np.where(y_pred > 0.5, 1, 0)\n",
    "\n",
    "# Evaluate performance\n",
    "print(f\"Accuracy: {accuracy_score(y_val, y_pred_classes)}\")\n",
    "print(\"Classification Report:\")\n",
    "print(classification_report(y_val, y_pred_classes))"
   ]
  },
  {
   "cell_type": "markdown",
   "id": "035117a0",
   "metadata": {
    "papermill": {
     "duration": 0.108742,
     "end_time": "2024-11-05T00:04:11.209223",
     "exception": false,
     "start_time": "2024-11-05T00:04:11.100481",
     "status": "completed"
    },
    "tags": []
   },
   "source": [
    "# Confusion Matrix"
   ]
  },
  {
   "cell_type": "code",
   "execution_count": 11,
   "id": "0a43f5b0",
   "metadata": {
    "execution": {
     "iopub.execute_input": "2024-11-05T00:04:11.430772Z",
     "iopub.status.busy": "2024-11-05T00:04:11.430075Z",
     "iopub.status.idle": "2024-11-05T00:04:11.677784Z",
     "shell.execute_reply": "2024-11-05T00:04:11.676872Z"
    },
    "papermill": {
     "duration": 0.360738,
     "end_time": "2024-11-05T00:04:11.679687",
     "exception": false,
     "start_time": "2024-11-05T00:04:11.318949",
     "status": "completed"
    },
    "tags": []
   },
   "outputs": [
    {
     "data": {
      "image/png": "[encoded data removed]",
      "text/plain": [
       "<Figure size 640x480 with 2 Axes>"
      ]
     },
     "metadata": {},
     "output_type": "display_data"
    }
   ],
   "source": [
    "cm = confusion_matrix(y_val, y_pred_classes)\n",
    "sns.heatmap(cm, annot=True, fmt='d', cmap='Blues')\n",
    "plt.xlabel('Predicted')\n",
    "plt.ylabel('True')\n",
    "plt.show()"
   ]
  },
  {
   "cell_type": "markdown",
   "id": "85ac47d5",
   "metadata": {
    "papermill": {
     "duration": 0.10853,
     "end_time": "2024-11-05T00:04:11.897497",
     "exception": false,
     "start_time": "2024-11-05T00:04:11.788967",
     "status": "completed"
    },
    "tags": []
   },
   "source": [
    "# Fine Tuning"
   ]
  },
  {
   "cell_type": "code",
   "execution_count": 12,
   "id": "a76434ad",
   "metadata": {
    "execution": {
     "iopub.execute_input": "2024-11-05T00:04:12.120148Z",
     "iopub.status.busy": "2024-11-05T00:04:12.119267Z",
     "iopub.status.idle": "2024-11-05T00:05:22.532820Z",
     "shell.execute_reply": "2024-11-05T00:05:22.531882Z"
    },
    "papermill": {
     "duration": 70.527793,
     "end_time": "2024-11-05T00:05:22.535057",
     "exception": false,
     "start_time": "2024-11-05T00:04:12.007264",
     "status": "completed"
    },
    "tags": []
   },
   "outputs": [
    {
     "name": "stdout",
     "output_type": "stream",
     "text": [
      "Epoch 1/10\n",
      "\u001b[1m85/85\u001b[0m \u001b[32m━━━━━━━━━━━━━━━━━━━━\u001b[0m\u001b[37m\u001b[0m \u001b[1m77s\u001b[0m 395ms/step - accuracy: 0.6835 - loss: 0.5597 - val_accuracy: 0.7124 - val_loss: 0.9549\n",
      "Epoch 2/10\n",
      "\u001b[1m85/85\u001b[0m \u001b[32m━━━━━━━━━━━━━━━━━━━━\u001b[0m\u001b[37m\u001b[0m \u001b[1m7s\u001b[0m 79ms/step - accuracy: 0.8705 - loss: 0.2998 - val_accuracy: 0.8569 - val_loss: 0.4115\n",
      "Epoch 3/10\n",
      "\u001b[1m85/85\u001b[0m \u001b[32m━━━━━━━━━━━━━━━━━━━━\u001b[0m\u001b[37m\u001b[0m \u001b[1m7s\u001b[0m 80ms/step - accuracy: 0.9035 - loss: 0.2352 - val_accuracy: 0.8953 - val_loss: 0.3494\n",
      "Epoch 4/10\n",
      "\u001b[1m85/85\u001b[0m \u001b[32m━━━━━━━━━━━━━━━━━━━━\u001b[0m\u001b[37m\u001b[0m \u001b[1m7s\u001b[0m 81ms/step - accuracy: 0.9270 - loss: 0.1747 - val_accuracy: 0.9056 - val_loss: 0.2111\n",
      "Epoch 5/10\n",
      "\u001b[1m85/85\u001b[0m \u001b[32m━━━━━━━━━━━━━━━━━━━━\u001b[0m\u001b[37m\u001b[0m \u001b[1m7s\u001b[0m 80ms/step - accuracy: 0.9459 - loss: 0.1468 - val_accuracy: 0.9263 - val_loss: 0.2033\n",
      "Epoch 6/10\n",
      "\u001b[1m85/85\u001b[0m \u001b[32m━━━━━━━━━━━━━━━━━━━━\u001b[0m\u001b[37m\u001b[0m \u001b[1m7s\u001b[0m 80ms/step - accuracy: 0.9540 - loss: 0.1309 - val_accuracy: 0.9322 - val_loss: 0.1918\n",
      "Epoch 7/10\n",
      "\u001b[1m85/85\u001b[0m \u001b[32m━━━━━━━━━━━━━━━━━━━━\u001b[0m\u001b[37m\u001b[0m \u001b[1m7s\u001b[0m 79ms/step - accuracy: 0.9473 - loss: 0.1388 - val_accuracy: 0.9351 - val_loss: 0.2058\n",
      "Epoch 8/10\n",
      "\u001b[1m85/85\u001b[0m \u001b[32m━━━━━━━━━━━━━━━━━━━━\u001b[0m\u001b[37m\u001b[0m \u001b[1m7s\u001b[0m 79ms/step - accuracy: 0.9468 - loss: 0.1383 - val_accuracy: 0.9351 - val_loss: 0.2000\n",
      "Epoch 9/10\n",
      "\u001b[1m85/85\u001b[0m \u001b[32m━━━━━━━━━━━━━━━━━━━━\u001b[0m\u001b[37m\u001b[0m \u001b[1m7s\u001b[0m 79ms/step - accuracy: 0.9675 - loss: 0.0953 - val_accuracy: 0.9395 - val_loss: 0.1948\n",
      "Epoch 10/10\n",
      "\u001b[1m85/85\u001b[0m \u001b[32m━━━━━━━━━━━━━━━━━━━━\u001b[0m\u001b[37m\u001b[0m \u001b[1m7s\u001b[0m 80ms/step - accuracy: 0.9728 - loss: 0.0829 - val_accuracy: 0.9484 - val_loss: 0.1486\n"
     ]
    }
   ],
   "source": [
    "# For example, increasing the depth of the network or using pretrained models like ResNet or EfficientNet\n",
    "# Fine-tune the optimizer (learning rate, regularization techniques, etc.)\n",
    "# Fine-tuning the model\n",
    "from tensorflow.keras.optimizers import Adam\n",
    "\n",
    "# Lower the learning rate for fine-tuning\n",
    "model.compile(optimizer=Adam(learning_rate=1e-4), loss='binary_crossentropy', metrics=['accuracy'])\n",
    "\n",
    "# Optionally unfreeze some layers or keep them all trainable\n",
    "# For example, unfreeze the last two convolutional blocks:\n",
    "for layer in model.layers[:-2]:  # Keep the last two layers trainable\n",
    "    layer.trainable = True\n",
    "\n",
    "# Train the model again with fine-tuning\n",
    "fine_tune_history = model.fit(train_generator, validation_data=val_generator, epochs=10, callbacks=[early_stopping])\n"
   ]
  },
  {
   "cell_type": "code",
   "execution_count": 13,
   "id": "663f091e",
   "metadata": {
    "execution": {
     "iopub.execute_input": "2024-11-05T00:05:22.831556Z",
     "iopub.status.busy": "2024-11-05T00:05:22.831206Z",
     "iopub.status.idle": "2024-11-05T00:05:23.053057Z",
     "shell.execute_reply": "2024-11-05T00:05:23.052003Z"
    },
    "papermill": {
     "duration": 0.371023,
     "end_time": "2024-11-05T00:05:23.055043",
     "exception": false,
     "start_time": "2024-11-05T00:05:22.684020",
     "status": "completed"
    },
    "tags": []
   },
   "outputs": [
    {
     "name": "stdout",
     "output_type": "stream",
     "text": [
      "\u001b[1m22/22\u001b[0m \u001b[32m━━━━━━━━━━━━━━━━━━━━\u001b[0m\u001b[37m\u001b[0m \u001b[1m0s\u001b[0m 13ms/step - accuracy: 0.9505 - loss: 0.1861\n",
      "Validation Accuracy: 0.95\n"
     ]
    }
   ],
   "source": [
    "# Evaluate the model on the validation data\n",
    "val_loss, val_accuracy = model.evaluate(val_generator)\n",
    "\n",
    "# Print the accuracy\n",
    "print(f'Validation Accuracy: {val_accuracy:.2f}')\n"
   ]
  }
 ],
 "metadata": {
  "kaggle": {
   "accelerator": "nvidiaTeslaT4",
   "dataSources": [
    {
     "databundleVersionId": 9414711,
     "sourceId": 84209,
     "sourceType": "competition"
    }
   ],
   "dockerImageVersionId": 30787,
   "isGpuEnabled": true,
   "isInternetEnabled": true,
   "language": "python",
   "sourceType": "notebook"
  },
  "kernelspec": {
   "display_name": ".venv",
   "language": "python",
   "name": "python3"
  },
  "language_info": {
   "codemirror_mode": {
    "name": "ipython",
    "version": 3
   },
   "file_extension": ".py",
   "mimetype": "text/x-python",
   "name": "python",
   "nbconvert_exporter": "python",
   "pygments_lexer": "ipython3",
   "version": "3.11.9"
  },
  "papermill": {
   "default_parameters": {},
   "duration": 817.006235,
   "end_time": "2024-11-05T00:05:26.428003",
   "environment_variables": {},
   "exception": null,
   "input_path": "__notebook__.ipynb",
   "output_path": "__notebook__.ipynb",
   "parameters": {},
   "start_time": "2024-11-04T23:51:49.421768",
   "version": "2.6.0"
  }
 },
 "nbformat": 4,
 "nbformat_minor": 5
}
